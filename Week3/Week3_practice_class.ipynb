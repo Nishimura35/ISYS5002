{
  "nbformat": 4,
  "nbformat_minor": 0,
  "metadata": {
    "colab": {
      "provenance": [],
      "authorship_tag": "ABX9TyN6fLGo3kScEVnZ7cfj/iwC",
      "include_colab_link": true
    },
    "kernelspec": {
      "name": "python3",
      "display_name": "Python 3"
    },
    "language_info": {
      "name": "python"
    }
  },
  "cells": [
    {
      "cell_type": "markdown",
      "metadata": {
        "id": "view-in-github",
        "colab_type": "text"
      },
      "source": [
        "<a href=\"https://colab.research.google.com/github/Nishimura35/ISYS5002/blob/main/Week3/Week3_practice_class.ipynb\" target=\"_parent\"><img src=\"https://colab.research.google.com/assets/colab-badge.svg\" alt=\"Open In Colab\"/></a>"
      ]
    },
    {
      "cell_type": "code",
      "execution_count": null,
      "metadata": {
        "id": "hzDhmXfCYqzu",
        "colab": {
          "base_uri": "https://localhost:8080/"
        },
        "outputId": "265fab58-c5f7-4869-b952-3bd0f0b34480"
      },
      "outputs": [
        {
          "output_type": "stream",
          "name": "stdout",
          "text": [
            "It's warm!\n"
          ]
        }
      ],
      "source": [
        "temperature = 20\n",
        "if temperature < 20:\n",
        "  print(\"It's chilly!\")\n",
        "else:\n",
        "  print(\"It's warm!\")"
      ]
    },
    {
      "cell_type": "code",
      "source": [
        "temperature = 20\n",
        "if temperature <= 20:\n",
        "  print(\"It's chilly!\")\n",
        "else:\n",
        "  print(\"It's warm!\")"
      ],
      "metadata": {
        "colab": {
          "base_uri": "https://localhost:8080/"
        },
        "id": "bi2BITqrhHBt",
        "outputId": "35713cdb-e425-43f8-c13c-cc9af7be2839"
      },
      "execution_count": null,
      "outputs": [
        {
          "output_type": "stream",
          "name": "stdout",
          "text": [
            "It's chilly!\n"
          ]
        }
      ]
    },
    {
      "cell_type": "code",
      "source": [
        "temperature = 20\n",
        "if temperature <= 20:\n",
        "  print(\"It's chilly!\")\n",
        "  print(\"This is some more text.\")"
      ],
      "metadata": {
        "colab": {
          "base_uri": "https://localhost:8080/"
        },
        "id": "Lnk1wNbHhM7s",
        "outputId": "14b15571-5d97-4166-ad91-0d7569a2f72e"
      },
      "execution_count": null,
      "outputs": [
        {
          "output_type": "stream",
          "name": "stdout",
          "text": [
            "It's chilly!\n",
            "This is some more text.\n"
          ]
        }
      ]
    },
    {
      "cell_type": "code",
      "source": [
        "# Indent for if statement is important!\n",
        "temperature = 20\n",
        "if temperature <= 20:\n",
        "  print(\"It's chilly!\")\n",
        "  print(\"This is some more text.\")\n",
        "print(\"This is after the if statement.\")"
      ],
      "metadata": {
        "colab": {
          "base_uri": "https://localhost:8080/"
        },
        "id": "MQWoIIU5hv3v",
        "outputId": "4cf4871b-815f-4344-8bde-6fdbc4c99a6f"
      },
      "execution_count": null,
      "outputs": [
        {
          "output_type": "stream",
          "name": "stdout",
          "text": [
            "It's chilly!\n",
            "This is some more text.\n",
            "This is after the if statement.\n"
          ]
        }
      ]
    },
    {
      "cell_type": "code",
      "source": [
        "temperature = 20\n",
        "if temperature <= 20:\n",
        "  print(\"It's chilly!\")\n",
        "  print(\"This is some more text.\")\n",
        "else:\n",
        "  print(\"It's warm!\")\n",
        "print(\"This is after the if statement.\")"
      ],
      "metadata": {
        "colab": {
          "base_uri": "https://localhost:8080/"
        },
        "id": "jCBYwnD8h-7V",
        "outputId": "7477ccf9-bcc5-4f6d-fca4-96fc5a42735e"
      },
      "execution_count": null,
      "outputs": [
        {
          "output_type": "stream",
          "name": "stdout",
          "text": [
            "It's chilly!\n",
            "This is some more text.\n",
            "This is after the if statement.\n"
          ]
        }
      ]
    },
    {
      "cell_type": "code",
      "source": [
        "temperature = 20\n",
        "it_is_raining = True\n",
        "if temperature <= 20:\n",
        "  if it_is_raining:\n",
        "    print(\"It's chilly and raining!\")\n",
        "  else:\n",
        "    print(\"It's chilly!\")\n",
        "    print(\"This is some more text.\")\n",
        "else:\n",
        "  print(\"It's warm!\")"
      ],
      "metadata": {
        "colab": {
          "base_uri": "https://localhost:8080/"
        },
        "id": "RkgimkvZiYYy",
        "outputId": "bcea51ef-7679-4dcb-cdf3-72fdf7f88eab"
      },
      "execution_count": null,
      "outputs": [
        {
          "output_type": "stream",
          "name": "stdout",
          "text": [
            "It's chilly and raining!\n"
          ]
        }
      ]
    },
    {
      "cell_type": "code",
      "source": [
        "# String\n",
        "temperature = input(\"Please enter today temperature.\")\n",
        "it_is_raining = input(\"Is it rainining?\")\n",
        "if temperature <= 20:\n",
        "  if it_is_raining:\n",
        "    print(\"It's chilly and raining!\")\n",
        "  else:\n",
        "    print(\"It's chilly!\")\n",
        "    print(\"This is some more text.\")\n",
        "else:\n",
        "  print(\"It's warm!\")"
      ],
      "metadata": {
        "colab": {
          "base_uri": "https://localhost:8080/",
          "height": 245
        },
        "id": "soPebyq1jSRk",
        "outputId": "e9424826-9f76-4df3-815c-b412d7d48bac"
      },
      "execution_count": null,
      "outputs": [
        {
          "name": "stdout",
          "output_type": "stream",
          "text": [
            "Please enter today temperature.20\n",
            "Is it rainining?No\n"
          ]
        },
        {
          "output_type": "error",
          "ename": "TypeError",
          "evalue": "'<=' not supported between instances of 'str' and 'int'",
          "traceback": [
            "\u001b[0;31m---------------------------------------------------------------------------\u001b[0m",
            "\u001b[0;31mTypeError\u001b[0m                                 Traceback (most recent call last)",
            "\u001b[0;32m<ipython-input-11-ccedc8b2e75f>\u001b[0m in \u001b[0;36m<cell line: 0>\u001b[0;34m()\u001b[0m\n\u001b[1;32m      1\u001b[0m \u001b[0mtemperature\u001b[0m \u001b[0;34m=\u001b[0m \u001b[0minput\u001b[0m\u001b[0;34m(\u001b[0m\u001b[0;34m\"Please enter today temperature.\"\u001b[0m\u001b[0;34m)\u001b[0m\u001b[0;34m\u001b[0m\u001b[0;34m\u001b[0m\u001b[0m\n\u001b[1;32m      2\u001b[0m \u001b[0mit_is_raining\u001b[0m \u001b[0;34m=\u001b[0m \u001b[0minput\u001b[0m\u001b[0;34m(\u001b[0m\u001b[0;34m\"Is it rainining?\"\u001b[0m\u001b[0;34m)\u001b[0m\u001b[0;34m\u001b[0m\u001b[0;34m\u001b[0m\u001b[0m\n\u001b[0;32m----> 3\u001b[0;31m \u001b[0;32mif\u001b[0m \u001b[0mtemperature\u001b[0m \u001b[0;34m<=\u001b[0m \u001b[0;36m20\u001b[0m\u001b[0;34m:\u001b[0m\u001b[0;34m\u001b[0m\u001b[0;34m\u001b[0m\u001b[0m\n\u001b[0m\u001b[1;32m      4\u001b[0m   \u001b[0;32mif\u001b[0m \u001b[0mit_is_raining\u001b[0m\u001b[0;34m:\u001b[0m\u001b[0;34m\u001b[0m\u001b[0;34m\u001b[0m\u001b[0m\n\u001b[1;32m      5\u001b[0m     \u001b[0mprint\u001b[0m\u001b[0;34m(\u001b[0m\u001b[0;34m\"It's chilly and raining!\"\u001b[0m\u001b[0;34m)\u001b[0m\u001b[0;34m\u001b[0m\u001b[0;34m\u001b[0m\u001b[0m\n",
            "\u001b[0;31mTypeError\u001b[0m: '<=' not supported between instances of 'str' and 'int'"
          ]
        }
      ]
    },
    {
      "cell_type": "code",
      "source": [
        "temperature = input(\"Please enter today temperature.\")\n",
        "it_is_raining = input(\"Is it rainining?\")\n",
        "temperature = int(temperature)\n",
        "it_is_raining = it_is_raining.lower()\n",
        "it_is_raining = (it_is_raining == \"yes\")\n",
        "if temperature <= 20:\n",
        "  if it_is_raining == True:\n",
        "    print(\"It's chilly and raining!\")\n",
        "  else:\n",
        "    print(\"It's chilly!\")\n",
        "    print(\"This is some more text.\")\n",
        "else:\n",
        "  print(\"It's warm!\")"
      ],
      "metadata": {
        "colab": {
          "base_uri": "https://localhost:8080/"
        },
        "id": "S7ofNFB_j_85",
        "outputId": "873b3b65-76b7-4531-d856-6f2fcb899983"
      },
      "execution_count": null,
      "outputs": [
        {
          "output_type": "stream",
          "name": "stdout",
          "text": [
            "Please enter today temperature.20\n",
            "Is it rainining?pe\n",
            "It's chilly!\n",
            "This is some more text.\n"
          ]
        }
      ]
    },
    {
      "cell_type": "code",
      "source": [
        "# Either is fine\n",
        "it_is_raining = (it_is_raining == \"yes\")\n",
        "if it_is_raining == \"yes\"\n",
        "it_is_raining = it_is_raining.lower() == \"yes\""
      ],
      "metadata": {
        "colab": {
          "base_uri": "https://localhost:8080/",
          "height": 106
        },
        "id": "30Gu7oktkk7s",
        "outputId": "483affc7-6c07-4126-917a-a08865e9acaa"
      },
      "execution_count": null,
      "outputs": [
        {
          "output_type": "error",
          "ename": "SyntaxError",
          "evalue": "expected ':' (<ipython-input-18-c69b3789439b>, line 2)",
          "traceback": [
            "\u001b[0;36m  File \u001b[0;32m\"<ipython-input-18-c69b3789439b>\"\u001b[0;36m, line \u001b[0;32m2\u001b[0m\n\u001b[0;31m    if it_is_raining == \"yes\"\u001b[0m\n\u001b[0m                             ^\u001b[0m\n\u001b[0;31mSyntaxError\u001b[0m\u001b[0;31m:\u001b[0m expected ':'\n"
          ]
        }
      ]
    },
    {
      "cell_type": "code",
      "source": [
        "# Displaying the weather menu options\n",
        "print(\"Weather Menu:\")\n",
        "print(\"1. Check Temperature\")\n",
        "print(\"2. Check Humidity\")\n",
        "print(\"3. Check Wind Speed\")\n",
        "print(\"4. Exit\")\n",
        "\n",
        "# Prompting the user to enter their choice\n",
        "choice = input(\"Enter your choice (1-4): \")\n",
        "print(\"You selected option:\", choice)\n",
        "\n",
        "# Example of a simple decision structure based on the user's choice\n",
        "if choice == \"1\":\n",
        "    print(\"You chose to check the temperature.\")\n",
        "elif choice == \"2\":\n",
        "    print(\"You chose to check the humidity.\")\n",
        "elif choice == \"3\":\n",
        "    print(\"You chose to check the wind speed.\")\n",
        "elif choice == \"4\":\n",
        "    print(\"Exiting the program.\")\n",
        "else:\n",
        "    print(\"Invalid choice. Please select a valid option.\")"
      ],
      "metadata": {
        "id": "2obSXp_DnZf4"
      },
      "execution_count": null,
      "outputs": []
    }
  ]
}