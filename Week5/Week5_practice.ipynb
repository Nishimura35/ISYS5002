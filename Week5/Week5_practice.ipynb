{
  "nbformat": 4,
  "nbformat_minor": 0,
  "metadata": {
    "colab": {
      "provenance": [],
      "authorship_tag": "ABX9TyODl5b49fzDF65ZxQ70LV9z",
      "include_colab_link": true
    },
    "kernelspec": {
      "name": "python3",
      "display_name": "Python 3"
    },
    "language_info": {
      "name": "python"
    }
  },
  "cells": [
    {
      "cell_type": "markdown",
      "metadata": {
        "id": "view-in-github",
        "colab_type": "text"
      },
      "source": [
        "<a href=\"https://colab.research.google.com/github/Nishimura35/ISYS5002/blob/main/Week5_practice.ipynb\" target=\"_parent\"><img src=\"https://colab.research.google.com/assets/colab-badge.svg\" alt=\"Open In Colab\"/></a>"
      ]
    },
    {
      "cell_type": "code",
      "execution_count": 6,
      "metadata": {
        "colab": {
          "base_uri": "https://localhost:8080/",
          "height": 842
        },
        "id": "YYvPwyoGg4MM",
        "outputId": "c079e7b4-95dc-42d8-b21f-d1bf9fa30243"
      },
      "outputs": [
        {
          "output_type": "stream",
          "name": "stdout",
          "text": [
            "Requirement already satisfied: ColabTurtlePlus in /usr/local/lib/python3.11/dist-packages (2.0.1)\n"
          ]
        },
        {
          "output_type": "display_data",
          "data": {
            "text/plain": [
              "<IPython.core.display.HTML object>"
            ],
            "text/html": [
              "\n",
              "      <svg width=\"400\" height=\"400\">  \n",
              "        <rect width=\"100%\" height=\"100%\" style=\"fill:white;stroke:gray;stroke-width:1\"/>\n",
              "        \n",
              "        \n",
              "        <line x1=\"200.0\" y1=\"200.0\" x2=\"260.0\" y2=\"200.0\" stroke-linecap=\"round\" style=\"stroke:black;stroke-width:1\" /><line x1=\"260.0\" y1=\"200.0\" x2=\"260.0\" y2=\"260.0\" stroke-linecap=\"round\" style=\"stroke:black;stroke-width:1\" /><line x1=\"260.0\" y1=\"260.0\" x2=\"200.0\" y2=\"260.0\" stroke-linecap=\"round\" style=\"stroke:black;stroke-width:1\" /><line x1=\"200.0\" y1=\"260.0\" x2=\"200.0\" y2=\"200.0\" stroke-linecap=\"round\" style=\"stroke:black;stroke-width:1\" />\n",
              "        \n",
              "        \n",
              "        <g id=\"turtle\" visibility=\"visible\" transform=\"rotate(90,200.0,200.0) translate(200.0, 200.0)\">\n",
              "<path style=\"stroke:black;fill-rule:evenodd;fill:black;fill-opacity:1;\" transform=\"skewX(0) scale(1,1)\" d=\"m 1.1536693,-18.56101 c -2.105469,1.167969 -3.203125,3.441407 -3.140625,6.5 l 0.011719,0.519532 -0.300782,-0.15625 c -1.308594,-0.671875 -2.828125,-0.824219 -4.378906,-0.429688 -1.9375,0.484375 -3.8906253,2.089844 -6.0117193,4.9257825 -1.332031,1.785156 -1.714843,2.644531 -1.351562,3.035156 l 0.113281,0.125 h 0.363281 c 0.71875,0 1.308594,-0.265625 4.6679693,-2.113282 1.199219,-0.660156 2.183594,-1.199218 2.191406,-1.199218 0.00781,0 -0.023437,0.089844 -0.074218,0.195312 -0.472657,1.058594 -1.046876,2.785156 -1.335938,4.042969 -1.054688,4.574219 -0.351562,8.453125 2.101562,11.582031 0.28125,0.355469 0.292969,0.253906 -0.097656,0.722656 -2.046875,2.4609375 -3.027344,4.8984375 -2.734375,6.8046875 0.050781,0.339844 0.042969,0.335938 0.679688,0.335938 2.023437,0 4.15625,-1.316407 6.21875,-3.835938 0.222656,-0.269531 0.191406,-0.261719 0.425781,-0.113281 0.730469,0.46875 2.460938,1.390625 2.613281,1.390625 0.160157,0 1.765625,-0.753906 2.652344,-1.246094 0.167969,-0.09375 0.308594,-0.164062 0.308594,-0.160156 0.066406,0.105468 0.761719,0.855468 1.085937,1.171875 1.613282,1.570312 3.339844,2.402343 5.3593747,2.570312 0.324219,0.02734 0.355469,0.0078 0.425781,-0.316406 0.375,-1.742187 -0.382812,-4.058594 -2.1445307,-6.5585935 l -0.320312,-0.457031 0.15625,-0.183594 c 3.2460927,-3.824218 3.4335927,-9.08593704 0.558593,-15.816406 l -0.050781,-0.125 1.7382807,0.859375 c 3.585938,1.773437 4.371094,2.097656 5.085938,2.097656 0.945312,0 0.75,-0.863281 -0.558594,-2.507812 C 11.458356,-11.838353 8.3333563,-13.268041 4.8607003,-11.721166 l -0.363281,0.164063 0.019531,-0.09375 c 0.121094,-0.550781 0.183594,-1.800781 0.121094,-2.378907 -0.203125,-1.867187 -1.035157,-3.199218 -2.695313,-4.308593 -0.523437,-0.351563 -0.546875,-0.355469 -0.789062,-0.222657\" />\n",
              "</g><g id=\"classic\" visibility=\"visible\" transform=\"rotate(-90,200.0,200.0) translate(200.0, 200.0)\">\n",
              "<polygon points=\"-5,-4.5 0,-2.5 5,-4.5 0,4.5\" transform=\"skewX(0) scale(1,1)\" style=\"stroke:black;fill:black;stroke-width:1\" />\n",
              "</g>\n",
              "      </svg>\n",
              "    "
            ]
          },
          "metadata": {}
        },
        {
          "output_type": "display_data",
          "data": {
            "text/plain": [
              "<IPython.core.display.HTML object>"
            ],
            "text/html": [
              "\n",
              "      <svg width=\"400\" height=\"400\">  \n",
              "        <rect width=\"100%\" height=\"100%\" style=\"fill:white;stroke:gray;stroke-width:1\"/>\n",
              "        \n",
              "        \n",
              "        \n",
              "        \n",
              "        \n",
              "        <g id=\"turtle\" visibility=\"visible\" transform=\"rotate(90,200.0,200.0) translate(200.0, 200.0)\">\n",
              "<path style=\"stroke:black;fill-rule:evenodd;fill:black;fill-opacity:1;\" transform=\"skewX(0) scale(1,1)\" d=\"m 1.1536693,-18.56101 c -2.105469,1.167969 -3.203125,3.441407 -3.140625,6.5 l 0.011719,0.519532 -0.300782,-0.15625 c -1.308594,-0.671875 -2.828125,-0.824219 -4.378906,-0.429688 -1.9375,0.484375 -3.8906253,2.089844 -6.0117193,4.9257825 -1.332031,1.785156 -1.714843,2.644531 -1.351562,3.035156 l 0.113281,0.125 h 0.363281 c 0.71875,0 1.308594,-0.265625 4.6679693,-2.113282 1.199219,-0.660156 2.183594,-1.199218 2.191406,-1.199218 0.00781,0 -0.023437,0.089844 -0.074218,0.195312 -0.472657,1.058594 -1.046876,2.785156 -1.335938,4.042969 -1.054688,4.574219 -0.351562,8.453125 2.101562,11.582031 0.28125,0.355469 0.292969,0.253906 -0.097656,0.722656 -2.046875,2.4609375 -3.027344,4.8984375 -2.734375,6.8046875 0.050781,0.339844 0.042969,0.335938 0.679688,0.335938 2.023437,0 4.15625,-1.316407 6.21875,-3.835938 0.222656,-0.269531 0.191406,-0.261719 0.425781,-0.113281 0.730469,0.46875 2.460938,1.390625 2.613281,1.390625 0.160157,0 1.765625,-0.753906 2.652344,-1.246094 0.167969,-0.09375 0.308594,-0.164062 0.308594,-0.160156 0.066406,0.105468 0.761719,0.855468 1.085937,1.171875 1.613282,1.570312 3.339844,2.402343 5.3593747,2.570312 0.324219,0.02734 0.355469,0.0078 0.425781,-0.316406 0.375,-1.742187 -0.382812,-4.058594 -2.1445307,-6.5585935 l -0.320312,-0.457031 0.15625,-0.183594 c 3.2460927,-3.824218 3.4335927,-9.08593704 0.558593,-15.816406 l -0.050781,-0.125 1.7382807,0.859375 c 3.585938,1.773437 4.371094,2.097656 5.085938,2.097656 0.945312,0 0.75,-0.863281 -0.558594,-2.507812 C 11.458356,-11.838353 8.3333563,-13.268041 4.8607003,-11.721166 l -0.363281,0.164063 0.019531,-0.09375 c 0.121094,-0.550781 0.183594,-1.800781 0.121094,-2.378907 -0.203125,-1.867187 -1.035157,-3.199218 -2.695313,-4.308593 -0.523437,-0.351563 -0.546875,-0.355469 -0.789062,-0.222657\" />\n",
              "</g>\n",
              "      </svg>\n",
              "    "
            ]
          },
          "metadata": {}
        }
      ],
      "source": [
        "# Install the package if not already installed\n",
        "!pip install ColabTurtlePlus\n",
        "\n",
        "# Import the module\n",
        "from ColabTurtlePlus.Turtle import *\n",
        "\n",
        "# Setup the drawing environment\n",
        "clearscreen()\n",
        "setup(400, 400)  # Set window size to 400x400 pixels\n",
        "showborder()     # Show a border around the drawing area\n",
        "\n",
        "# Create a new turtle\n",
        "t = Turtle()\n",
        "t.shape(\"turtle\")  # Make it look like a turtle\n",
        "t.speed(6)         # Set drawing speed (1-13)\n",
        "\n",
        "# Draw a simple square\n",
        "for i in range(4):\n",
        "    t.forward(60)\n",
        "    t.right(90)\n",
        "\n",
        "# Display the final result\n",
        "done()\n",
        "\n",
        "# Start fresh for the next activity\n",
        "clearscreen()\n",
        "setup(400, 400)\n",
        "showborder()\n",
        "t = Turtle()\n",
        "t.shape(\"turtle\")\n",
        "t.speed(6)\n"
      ]
    },
    {
      "cell_type": "code",
      "source": [
        "# Reset turtle position\n",
        "t.clear()\n",
        "t.penup()\n",
        "t.goto(-150, 0)  # Move left so we have room for multiple shapes\n",
        "t.pendown()\n",
        "\n",
        "# Create a list of colors\n",
        "colors = [\"red\", \"orange\", \"yellow\", \"green\", \"blue\", \"purple\"]\n",
        "\n",
        "# Draw a line in each color\n",
        "for color in colors:\n",
        "  t.color(color)\n",
        "  t.forward(50)\n",
        "\n",
        "# Move turtle to new position\n",
        "t.penup()\n",
        "t.goto(-150, -50)\n",
        "t.pendown()\n",
        "\n",
        "# Draw a series of squares in different colors\n",
        "for i in range(len(colors)):\n",
        "    t.color(colors[i])\n",
        "\n",
        "    # Draw a square\n",
        "    for j in range(4):\n",
        "        t.forward(30)\n",
        "        t.right(90)\n",
        "\n",
        "    # Move to position for next square\n",
        "    t.penup()\n",
        "    t.forward(50)\n",
        "    t.pendown()\n",
        "\n",
        "# Display the final result\n",
        "done()\n",
        "\n",
        "# Start fresh for the next activity\n",
        "clearscreen()\n",
        "setup(400, 400)\n",
        "showborder()\n",
        "t = Turtle()\n",
        "t.shape(\"turtle\")\n",
        "t.speed(6)"
      ],
      "metadata": {
        "colab": {
          "base_uri": "https://localhost:8080/",
          "height": 825
        },
        "id": "xkeMuOTtiZgQ",
        "outputId": "3d57d29a-3aca-4f8d-a8f0-f5d150c43db9"
      },
      "execution_count": 9,
      "outputs": [
        {
          "output_type": "display_data",
          "data": {
            "text/plain": [
              "<IPython.core.display.HTML object>"
            ],
            "text/html": [
              "\n",
              "      <svg width=\"400\" height=\"400\">  \n",
              "        <rect width=\"100%\" height=\"100%\" style=\"fill:white;stroke:gray;stroke-width:1\"/>\n",
              "        \n",
              "        \n",
              "        <line x1=\"50.0\" y1=\"200.0\" x2=\"100.0\" y2=\"200.0\" stroke-linecap=\"round\" style=\"stroke:red;stroke-width:1\" /><line x1=\"100.0\" y1=\"200.0\" x2=\"150.0\" y2=\"200.0\" stroke-linecap=\"round\" style=\"stroke:orange;stroke-width:1\" /><line x1=\"150.0\" y1=\"200.0\" x2=\"200.0\" y2=\"200.0\" stroke-linecap=\"round\" style=\"stroke:yellow;stroke-width:1\" /><line x1=\"200.0\" y1=\"200.0\" x2=\"250.0\" y2=\"200.0\" stroke-linecap=\"round\" style=\"stroke:green;stroke-width:1\" /><line x1=\"250.0\" y1=\"200.0\" x2=\"300.0\" y2=\"200.0\" stroke-linecap=\"round\" style=\"stroke:blue;stroke-width:1\" /><line x1=\"300.0\" y1=\"200.0\" x2=\"350.0\" y2=\"200.0\" stroke-linecap=\"round\" style=\"stroke:purple;stroke-width:1\" /><line x1=\"50.0\" y1=\"250.0\" x2=\"80.0\" y2=\"250.0\" stroke-linecap=\"round\" style=\"stroke:red;stroke-width:1\" /><line x1=\"80.0\" y1=\"250.0\" x2=\"80.0\" y2=\"280.0\" stroke-linecap=\"round\" style=\"stroke:red;stroke-width:1\" /><line x1=\"80.0\" y1=\"280.0\" x2=\"50.0\" y2=\"280.0\" stroke-linecap=\"round\" style=\"stroke:red;stroke-width:1\" /><line x1=\"50.0\" y1=\"280.0\" x2=\"50.0\" y2=\"250.0\" stroke-linecap=\"round\" style=\"stroke:red;stroke-width:1\" /><line x1=\"100.0\" y1=\"250.0\" x2=\"130.0\" y2=\"250.0\" stroke-linecap=\"round\" style=\"stroke:orange;stroke-width:1\" /><line x1=\"130.0\" y1=\"250.0\" x2=\"130.0\" y2=\"280.0\" stroke-linecap=\"round\" style=\"stroke:orange;stroke-width:1\" /><line x1=\"130.0\" y1=\"280.0\" x2=\"100.0\" y2=\"280.0\" stroke-linecap=\"round\" style=\"stroke:orange;stroke-width:1\" /><line x1=\"100.0\" y1=\"280.0\" x2=\"100.0\" y2=\"250.0\" stroke-linecap=\"round\" style=\"stroke:orange;stroke-width:1\" /><line x1=\"150.0\" y1=\"250.0\" x2=\"180.0\" y2=\"250.0\" stroke-linecap=\"round\" style=\"stroke:yellow;stroke-width:1\" /><line x1=\"180.0\" y1=\"250.0\" x2=\"180.0\" y2=\"280.0\" stroke-linecap=\"round\" style=\"stroke:yellow;stroke-width:1\" /><line x1=\"180.0\" y1=\"280.0\" x2=\"150.0\" y2=\"280.0\" stroke-linecap=\"round\" style=\"stroke:yellow;stroke-width:1\" /><line x1=\"150.0\" y1=\"280.0\" x2=\"150.0\" y2=\"250.0\" stroke-linecap=\"round\" style=\"stroke:yellow;stroke-width:1\" /><line x1=\"200.0\" y1=\"250.0\" x2=\"230.0\" y2=\"250.0\" stroke-linecap=\"round\" style=\"stroke:green;stroke-width:1\" /><line x1=\"230.0\" y1=\"250.0\" x2=\"230.0\" y2=\"280.0\" stroke-linecap=\"round\" style=\"stroke:green;stroke-width:1\" /><line x1=\"230.0\" y1=\"280.0\" x2=\"200.0\" y2=\"280.0\" stroke-linecap=\"round\" style=\"stroke:green;stroke-width:1\" /><line x1=\"200.0\" y1=\"280.0\" x2=\"200.0\" y2=\"250.0\" stroke-linecap=\"round\" style=\"stroke:green;stroke-width:1\" /><line x1=\"250.0\" y1=\"250.0\" x2=\"280.0\" y2=\"250.0\" stroke-linecap=\"round\" style=\"stroke:blue;stroke-width:1\" /><line x1=\"280.0\" y1=\"250.0\" x2=\"280.0\" y2=\"280.0\" stroke-linecap=\"round\" style=\"stroke:blue;stroke-width:1\" /><line x1=\"280.0\" y1=\"280.0\" x2=\"250.0\" y2=\"280.0\" stroke-linecap=\"round\" style=\"stroke:blue;stroke-width:1\" /><line x1=\"250.0\" y1=\"280.0\" x2=\"250.0\" y2=\"250.0\" stroke-linecap=\"round\" style=\"stroke:blue;stroke-width:1\" /><line x1=\"300.0\" y1=\"250.0\" x2=\"330.0\" y2=\"250.0\" stroke-linecap=\"round\" style=\"stroke:purple;stroke-width:1\" /><line x1=\"330.0\" y1=\"250.0\" x2=\"330.0\" y2=\"280.0\" stroke-linecap=\"round\" style=\"stroke:purple;stroke-width:1\" /><line x1=\"330.0\" y1=\"280.0\" x2=\"300.0\" y2=\"280.0\" stroke-linecap=\"round\" style=\"stroke:purple;stroke-width:1\" /><line x1=\"300.0\" y1=\"280.0\" x2=\"300.0\" y2=\"250.0\" stroke-linecap=\"round\" style=\"stroke:purple;stroke-width:1\" />\n",
              "        \n",
              "        \n",
              "        <g id=\"turtle\" visibility=\"visible\" transform=\"rotate(90,350.0,250.0) translate(350.0, 250.0)\">\n",
              "<path style=\"stroke:purple;fill-rule:evenodd;fill:purple;fill-opacity:1;\" transform=\"skewX(0) scale(1,1)\" d=\"m 1.1536693,-18.56101 c -2.105469,1.167969 -3.203125,3.441407 -3.140625,6.5 l 0.011719,0.519532 -0.300782,-0.15625 c -1.308594,-0.671875 -2.828125,-0.824219 -4.378906,-0.429688 -1.9375,0.484375 -3.8906253,2.089844 -6.0117193,4.9257825 -1.332031,1.785156 -1.714843,2.644531 -1.351562,3.035156 l 0.113281,0.125 h 0.363281 c 0.71875,0 1.308594,-0.265625 4.6679693,-2.113282 1.199219,-0.660156 2.183594,-1.199218 2.191406,-1.199218 0.00781,0 -0.023437,0.089844 -0.074218,0.195312 -0.472657,1.058594 -1.046876,2.785156 -1.335938,4.042969 -1.054688,4.574219 -0.351562,8.453125 2.101562,11.582031 0.28125,0.355469 0.292969,0.253906 -0.097656,0.722656 -2.046875,2.4609375 -3.027344,4.8984375 -2.734375,6.8046875 0.050781,0.339844 0.042969,0.335938 0.679688,0.335938 2.023437,0 4.15625,-1.316407 6.21875,-3.835938 0.222656,-0.269531 0.191406,-0.261719 0.425781,-0.113281 0.730469,0.46875 2.460938,1.390625 2.613281,1.390625 0.160157,0 1.765625,-0.753906 2.652344,-1.246094 0.167969,-0.09375 0.308594,-0.164062 0.308594,-0.160156 0.066406,0.105468 0.761719,0.855468 1.085937,1.171875 1.613282,1.570312 3.339844,2.402343 5.3593747,2.570312 0.324219,0.02734 0.355469,0.0078 0.425781,-0.316406 0.375,-1.742187 -0.382812,-4.058594 -2.1445307,-6.5585935 l -0.320312,-0.457031 0.15625,-0.183594 c 3.2460927,-3.824218 3.4335927,-9.08593704 0.558593,-15.816406 l -0.050781,-0.125 1.7382807,0.859375 c 3.585938,1.773437 4.371094,2.097656 5.085938,2.097656 0.945312,0 0.75,-0.863281 -0.558594,-2.507812 C 11.458356,-11.838353 8.3333563,-13.268041 4.8607003,-11.721166 l -0.363281,0.164063 0.019531,-0.09375 c 0.121094,-0.550781 0.183594,-1.800781 0.121094,-2.378907 -0.203125,-1.867187 -1.035157,-3.199218 -2.695313,-4.308593 -0.523437,-0.351563 -0.546875,-0.355469 -0.789062,-0.222657\" />\n",
              "</g><g id=\"classic\" visibility=\"visible\" transform=\"rotate(-90,200.0,200.0) translate(200.0, 200.0)\">\n",
              "<polygon points=\"-5,-4.5 0,-2.5 5,-4.5 0,4.5\" transform=\"skewX(0) scale(1,1)\" style=\"stroke:black;fill:black;stroke-width:1\" />\n",
              "</g>\n",
              "      </svg>\n",
              "    "
            ]
          },
          "metadata": {}
        },
        {
          "output_type": "display_data",
          "data": {
            "text/plain": [
              "<IPython.core.display.HTML object>"
            ],
            "text/html": [
              "\n",
              "      <svg width=\"400\" height=\"400\">  \n",
              "        <rect width=\"100%\" height=\"100%\" style=\"fill:white;stroke:gray;stroke-width:1\"/>\n",
              "        \n",
              "        \n",
              "        \n",
              "        \n",
              "        \n",
              "        <g id=\"turtle\" visibility=\"visible\" transform=\"rotate(90,200.0,200.0) translate(200.0, 200.0)\">\n",
              "<path style=\"stroke:black;fill-rule:evenodd;fill:black;fill-opacity:1;\" transform=\"skewX(0) scale(1,1)\" d=\"m 1.1536693,-18.56101 c -2.105469,1.167969 -3.203125,3.441407 -3.140625,6.5 l 0.011719,0.519532 -0.300782,-0.15625 c -1.308594,-0.671875 -2.828125,-0.824219 -4.378906,-0.429688 -1.9375,0.484375 -3.8906253,2.089844 -6.0117193,4.9257825 -1.332031,1.785156 -1.714843,2.644531 -1.351562,3.035156 l 0.113281,0.125 h 0.363281 c 0.71875,0 1.308594,-0.265625 4.6679693,-2.113282 1.199219,-0.660156 2.183594,-1.199218 2.191406,-1.199218 0.00781,0 -0.023437,0.089844 -0.074218,0.195312 -0.472657,1.058594 -1.046876,2.785156 -1.335938,4.042969 -1.054688,4.574219 -0.351562,8.453125 2.101562,11.582031 0.28125,0.355469 0.292969,0.253906 -0.097656,0.722656 -2.046875,2.4609375 -3.027344,4.8984375 -2.734375,6.8046875 0.050781,0.339844 0.042969,0.335938 0.679688,0.335938 2.023437,0 4.15625,-1.316407 6.21875,-3.835938 0.222656,-0.269531 0.191406,-0.261719 0.425781,-0.113281 0.730469,0.46875 2.460938,1.390625 2.613281,1.390625 0.160157,0 1.765625,-0.753906 2.652344,-1.246094 0.167969,-0.09375 0.308594,-0.164062 0.308594,-0.160156 0.066406,0.105468 0.761719,0.855468 1.085937,1.171875 1.613282,1.570312 3.339844,2.402343 5.3593747,2.570312 0.324219,0.02734 0.355469,0.0078 0.425781,-0.316406 0.375,-1.742187 -0.382812,-4.058594 -2.1445307,-6.5585935 l -0.320312,-0.457031 0.15625,-0.183594 c 3.2460927,-3.824218 3.4335927,-9.08593704 0.558593,-15.816406 l -0.050781,-0.125 1.7382807,0.859375 c 3.585938,1.773437 4.371094,2.097656 5.085938,2.097656 0.945312,0 0.75,-0.863281 -0.558594,-2.507812 C 11.458356,-11.838353 8.3333563,-13.268041 4.8607003,-11.721166 l -0.363281,0.164063 0.019531,-0.09375 c 0.121094,-0.550781 0.183594,-1.800781 0.121094,-2.378907 -0.203125,-1.867187 -1.035157,-3.199218 -2.695313,-4.308593 -0.523437,-0.351563 -0.546875,-0.355469 -0.789062,-0.222657\" />\n",
              "</g>\n",
              "      </svg>\n",
              "    "
            ]
          },
          "metadata": {}
        }
      ]
    },
    {
      "cell_type": "code",
      "source": [
        "# Draw a colorful spiral\n",
        "t.speed(10)  # Faster speed\n",
        "\n",
        "# List of colors for our spiral\n",
        "spiral_colors = [\"blue\", \"green\", \"red\", \"yellow\"]\n",
        "size = 5\n",
        "\n",
        "# Create spiral using a loop\n",
        "for i in range(60):\n",
        "    # Use modulo to cycle through the colors\n",
        "    t.color(spiral_colors[i % len(spiral_colors)])\n",
        "    t.forward(size)\n",
        "    t.right(91)  # Not quite 90° creates a spiral effect\n",
        "    size += 2  # Increase size each iteration\n",
        "\n",
        "done()\n",
        "clearscreen()\n",
        "setup(400, 400)\n",
        "showborder()\n",
        "t = Turtle()\n",
        "t.shape(\"turtle\")\n",
        "t.speed(6)\n",
        "\n",
        "# Now let's create a pattern of circles\n",
        "positions = [(-100, 0), (0, 0), (100, 0), (-50, -70), (50, -70)]\n",
        "circle_colors = [\"red\", \"yellow\", \"blue\", \"green\", \"purple\"]\n",
        "\n",
        "for i in range(len(positions)):\n",
        "    # Move to the position from our list\n",
        "    t.penup()\n",
        "    t.goto(positions[i])\n",
        "    t.pendown()\n",
        "\n",
        "    # Draw filled circle\n",
        "    t.color(circle_colors[i])\n",
        "    t.begin_fill()\n",
        "    t.circle(30)  # Circle with radius 30\n",
        "    t.end_fill()\n",
        "\n",
        "done()\n",
        "clearscreen()\n",
        "setup(400, 400)\n",
        "showborder()\n",
        "t = Turtle()\n",
        "t.shape(\"turtle\")\n",
        "t.speed(6)\n",
        ""
      ],
      "metadata": {
        "colab": {
          "base_uri": "https://localhost:8080/",
          "height": 1000
        },
        "id": "FMM-zDtdnVSR",
        "outputId": "fa670123-2767-4218-fffc-ca7726d67cb0"
      },
      "execution_count": 12,
      "outputs": [
        {
          "output_type": "display_data",
          "data": {
            "text/plain": [
              "<IPython.core.display.HTML object>"
            ],
            "text/html": [
              "\n",
              "      <svg width=\"400\" height=\"400\">  \n",
              "        <rect width=\"100%\" height=\"100%\" style=\"fill:white;stroke:gray;stroke-width:1\"/>\n",
              "        \n",
              "        \n",
              "        <line x1=\"200.0\" y1=\"200.0\" x2=\"205.0\" y2=\"200.0\" stroke-linecap=\"round\" style=\"stroke:blue;stroke-width:1\" /><line x1=\"205.0\" y1=\"200.0\" x2=\"204.878\" y2=\"206.999\" stroke-linecap=\"round\" style=\"stroke:green;stroke-width:1\" /><line x1=\"204.878\" y1=\"206.999\" x2=\"195.883\" y2=\"206.685\" stroke-linecap=\"round\" style=\"stroke:red;stroke-width:1\" /><line x1=\"195.883\" y1=\"206.685\" x2=\"196.459\" y2=\"195.7\" stroke-linecap=\"round\" style=\"stroke:yellow;stroke-width:1\" /><line x1=\"196.459\" y1=\"195.7\" x2=\"209.427\" y2=\"196.607\" stroke-linecap=\"round\" style=\"stroke:blue;stroke-width:1\" /><line x1=\"209.427\" y1=\"196.607\" x2=\"208.12\" y2=\"211.55\" stroke-linecap=\"round\" style=\"stroke:green;stroke-width:1\" /><line x1=\"208.12\" y1=\"211.55\" x2=\"191.213\" y2=\"209.773\" stroke-linecap=\"round\" style=\"stroke:red;stroke-width:1\" /><line x1=\"191.213\" y1=\"209.773\" x2=\"193.529\" y2=\"190.915\" stroke-linecap=\"round\" style=\"stroke:yellow;stroke-width:1\" /><line x1=\"193.529\" y1=\"190.915\" x2=\"214.325\" y2=\"193.838\" stroke-linecap=\"round\" style=\"stroke:blue;stroke-width:1\" /><line x1=\"214.325\" y1=\"193.838\" x2=\"210.727\" y2=\"216.555\" stroke-linecap=\"round\" style=\"stroke:green;stroke-width:1\" /><line x1=\"210.727\" y1=\"216.555\" x2=\"186.107\" y2=\"212.214\" stroke-linecap=\"round\" style=\"stroke:red;stroke-width:1\" /><line x1=\"186.107\" y1=\"212.214\" x2=\"191.259\" y2=\"185.71\" stroke-linecap=\"round\" style=\"stroke:yellow;stroke-width:1\" /><line x1=\"191.259\" y1=\"185.71\" x2=\"219.625\" y2=\"191.739\" stroke-linecap=\"round\" style=\"stroke:blue;stroke-width:1\" /><line x1=\"219.625\" y1=\"191.739\" x2=\"212.652\" y2=\"221.944\" stroke-linecap=\"round\" style=\"stroke:green;stroke-width:1\" /><line x1=\"212.652\" y1=\"221.944\" x2=\"180.632\" y2=\"213.961\" stroke-linecap=\"round\" style=\"stroke:red;stroke-width:1\" /><line x1=\"180.632\" y1=\"213.961\" x2=\"189.691\" y2=\"180.154\" stroke-linecap=\"round\" style=\"stroke:yellow;stroke-width:1\" /><line x1=\"189.691\" y1=\"180.154\" x2=\"225.258\" y2=\"190.353\" stroke-linecap=\"round\" style=\"stroke:blue;stroke-width:1\" /><line x1=\"225.258\" y1=\"190.353\" x2=\"213.856\" y2=\"227.649\" stroke-linecap=\"round\" style=\"stroke:green;stroke-width:1\" /><line x1=\"213.856\" y1=\"227.649\" x2=\"174.863\" y2=\"214.979\" stroke-linecap=\"round\" style=\"stroke:red;stroke-width:1\" /><line x1=\"174.863\" y1=\"214.979\" x2=\"188.862\" y2=\"174.322\" stroke-linecap=\"round\" style=\"stroke:yellow;stroke-width:1\" /><line x1=\"188.862\" y1=\"174.322\" x2=\"231.148\" y2=\"189.713\" stroke-linecap=\"round\" style=\"stroke:blue;stroke-width:1\" /><line x1=\"231.148\" y1=\"189.713\" x2=\"214.305\" y2=\"233.591\" stroke-linecap=\"round\" style=\"stroke:green;stroke-width:1\" /><line x1=\"214.305\" y1=\"233.591\" x2=\"168.873\" y2=\"215.235\" stroke-linecap=\"round\" style=\"stroke:red;stroke-width:1\" /><line x1=\"168.873\" y1=\"215.235\" x2=\"188.8\" y2=\"168.289\" stroke-linecap=\"round\" style=\"stroke:yellow;stroke-width:1\" /><line x1=\"188.8\" y1=\"168.289\" x2=\"237.218\" y2=\"189.846\" stroke-linecap=\"round\" style=\"stroke:blue;stroke-width:1\" /><line x1=\"237.218\" y1=\"189.846\" x2=\"213.974\" y2=\"239.693\" stroke-linecap=\"round\" style=\"stroke:green;stroke-width:1\" /><line x1=\"213.974\" y1=\"239.693\" x2=\"162.743\" y2=\"214.706\" stroke-linecap=\"round\" style=\"stroke:red;stroke-width:1\" /><line x1=\"162.743\" y1=\"214.706\" x2=\"189.528\" y2=\"162.137\" stroke-linecap=\"round\" style=\"stroke:yellow;stroke-width:1\" /><line x1=\"189.528\" y1=\"162.137\" x2=\"243.388\" y2=\"190.775\" stroke-linecap=\"round\" style=\"stroke:blue;stroke-width:1\" /><line x1=\"243.388\" y1=\"190.775\" x2=\"212.845\" y2=\"245.876\" stroke-linecap=\"round\" style=\"stroke:green;stroke-width:1\" /><line x1=\"212.845\" y1=\"245.876\" x2=\"156.553\" y2=\"213.376\" stroke-linecap=\"round\" style=\"stroke:red;stroke-width:1\" /><line x1=\"156.553\" y1=\"213.376\" x2=\"191.061\" y2=\"155.946\" stroke-linecap=\"round\" style=\"stroke:yellow;stroke-width:1\" /><line x1=\"191.061\" y1=\"155.946\" x2=\"249.576\" y2=\"192.51\" stroke-linecap=\"round\" style=\"stroke:blue;stroke-width:1\" /><line x1=\"249.576\" y1=\"192.51\" x2=\"210.907\" y2=\"252.056\" stroke-linecap=\"round\" style=\"stroke:green;stroke-width:1\" /><line x1=\"210.907\" y1=\"252.056\" x2=\"150.387\" y2=\"211.235\" stroke-linecap=\"round\" style=\"stroke:red;stroke-width:1\" /><line x1=\"150.387\" y1=\"211.235\" x2=\"193.405\" y2=\"149.799\" stroke-linecap=\"round\" style=\"stroke:yellow;stroke-width:1\" /><line x1=\"193.405\" y1=\"149.799\" x2=\"255.699\" y2=\"195.058\" stroke-linecap=\"round\" style=\"stroke:blue;stroke-width:1\" /><line x1=\"255.699\" y1=\"195.058\" x2=\"208.156\" y2=\"258.15\" stroke-linecap=\"round\" style=\"stroke:green;stroke-width:1\" /><line x1=\"208.156\" y1=\"258.15\" x2=\"144.327\" y2=\"208.281\" stroke-linecap=\"round\" style=\"stroke:red;stroke-width:1\" /><line x1=\"144.327\" y1=\"208.281\" x2=\"196.561\" y2=\"143.778\" stroke-linecap=\"round\" style=\"stroke:yellow;stroke-width:1\" /><line x1=\"196.561\" y1=\"143.778\" x2=\"261.675\" y2=\"198.415\" stroke-linecap=\"round\" style=\"stroke:blue;stroke-width:1\" /><line x1=\"261.675\" y1=\"198.415\" x2=\"204.598\" y2=\"264.075\" stroke-linecap=\"round\" style=\"stroke:green;stroke-width:1\" /><line x1=\"204.598\" y1=\"264.075\" x2=\"138.458\" y2=\"204.522\" stroke-linecap=\"round\" style=\"stroke:red;stroke-width:1\" /><line x1=\"138.458\" y1=\"204.522\" x2=\"200.52\" y2=\"137.969\" stroke-linecap=\"round\" style=\"stroke:yellow;stroke-width:1\" /><line x1=\"200.52\" y1=\"137.969\" x2=\"267.419\" y2=\"202.572\" stroke-linecap=\"round\" style=\"stroke:blue;stroke-width:1\" /><line x1=\"267.419\" y1=\"202.572\" x2=\"200.244\" y2=\"269.747\" stroke-linecap=\"round\" style=\"stroke:green;stroke-width:1\" /><line x1=\"200.244\" y1=\"269.747\" x2=\"132.862\" y2=\"199.971\" stroke-linecap=\"round\" style=\"stroke:red;stroke-width:1\" /><line x1=\"132.862\" y1=\"199.971\" x2=\"205.266\" y2=\"132.453\" stroke-linecap=\"round\" style=\"stroke:yellow;stroke-width:1\" /><line x1=\"205.266\" y1=\"132.453\" x2=\"272.848\" y2=\"207.511\" stroke-linecap=\"round\" style=\"stroke:blue;stroke-width:1\" /><line x1=\"272.848\" y1=\"207.511\" x2=\"195.113\" y2=\"275.085\" stroke-linecap=\"round\" style=\"stroke:green;stroke-width:1\" /><line x1=\"195.113\" y1=\"275.085\" x2=\"127.62\" y2=\"194.65\" stroke-linecap=\"round\" style=\"stroke:red;stroke-width:1\" /><line x1=\"127.62\" y1=\"194.65\" x2=\"210.775\" y2=\"127.313\" stroke-linecap=\"round\" style=\"stroke:yellow;stroke-width:1\" /><line x1=\"210.775\" y1=\"127.313\" x2=\"277.882\" y2=\"213.206\" stroke-linecap=\"round\" style=\"stroke:blue;stroke-width:1\" /><line x1=\"277.882\" y1=\"213.206\" x2=\"189.233\" y2=\"280.007\" stroke-linecap=\"round\" style=\"stroke:green;stroke-width:1\" /><line x1=\"189.233\" y1=\"280.007\" x2=\"122.813\" y2=\"188.588\" stroke-linecap=\"round\" style=\"stroke:red;stroke-width:1\" /><line x1=\"122.813\" y1=\"188.588\" x2=\"217.015\" y2=\"122.627\" stroke-linecap=\"round\" style=\"stroke:yellow;stroke-width:1\" /><line x1=\"217.015\" y1=\"122.627\" x2=\"282.441\" y2=\"219.624\" stroke-linecap=\"round\" style=\"stroke:blue;stroke-width:1\" /><line x1=\"282.441\" y1=\"219.624\" x2=\"182.639\" y2=\"284.436\" stroke-linecap=\"round\" style=\"stroke:green;stroke-width:1\" /><line x1=\"182.639\" y1=\"284.436\" x2=\"118.519\" y2=\"181.822\" stroke-linecap=\"round\" style=\"stroke:red;stroke-width:1\" /><line x1=\"118.519\" y1=\"181.822\" x2=\"223.951\" y2=\"118.472\" stroke-linecap=\"round\" style=\"stroke:yellow;stroke-width:1\" />\n",
              "        \n",
              "        \n",
              "        <g id=\"turtle\" visibility=\"visible\" transform=\"rotate(150,223.951,118.472) translate(223.951, 118.472)\">\n",
              "<path style=\"stroke:yellow;fill-rule:evenodd;fill:yellow;fill-opacity:1;\" transform=\"skewX(0) scale(1,1)\" d=\"m 1.1536693,-18.56101 c -2.105469,1.167969 -3.203125,3.441407 -3.140625,6.5 l 0.011719,0.519532 -0.300782,-0.15625 c -1.308594,-0.671875 -2.828125,-0.824219 -4.378906,-0.429688 -1.9375,0.484375 -3.8906253,2.089844 -6.0117193,4.9257825 -1.332031,1.785156 -1.714843,2.644531 -1.351562,3.035156 l 0.113281,0.125 h 0.363281 c 0.71875,0 1.308594,-0.265625 4.6679693,-2.113282 1.199219,-0.660156 2.183594,-1.199218 2.191406,-1.199218 0.00781,0 -0.023437,0.089844 -0.074218,0.195312 -0.472657,1.058594 -1.046876,2.785156 -1.335938,4.042969 -1.054688,4.574219 -0.351562,8.453125 2.101562,11.582031 0.28125,0.355469 0.292969,0.253906 -0.097656,0.722656 -2.046875,2.4609375 -3.027344,4.8984375 -2.734375,6.8046875 0.050781,0.339844 0.042969,0.335938 0.679688,0.335938 2.023437,0 4.15625,-1.316407 6.21875,-3.835938 0.222656,-0.269531 0.191406,-0.261719 0.425781,-0.113281 0.730469,0.46875 2.460938,1.390625 2.613281,1.390625 0.160157,0 1.765625,-0.753906 2.652344,-1.246094 0.167969,-0.09375 0.308594,-0.164062 0.308594,-0.160156 0.066406,0.105468 0.761719,0.855468 1.085937,1.171875 1.613282,1.570312 3.339844,2.402343 5.3593747,2.570312 0.324219,0.02734 0.355469,0.0078 0.425781,-0.316406 0.375,-1.742187 -0.382812,-4.058594 -2.1445307,-6.5585935 l -0.320312,-0.457031 0.15625,-0.183594 c 3.2460927,-3.824218 3.4335927,-9.08593704 0.558593,-15.816406 l -0.050781,-0.125 1.7382807,0.859375 c 3.585938,1.773437 4.371094,2.097656 5.085938,2.097656 0.945312,0 0.75,-0.863281 -0.558594,-2.507812 C 11.458356,-11.838353 8.3333563,-13.268041 4.8607003,-11.721166 l -0.363281,0.164063 0.019531,-0.09375 c 0.121094,-0.550781 0.183594,-1.800781 0.121094,-2.378907 -0.203125,-1.867187 -1.035157,-3.199218 -2.695313,-4.308593 -0.523437,-0.351563 -0.546875,-0.355469 -0.789062,-0.222657\" />\n",
              "</g><g id=\"classic\" visibility=\"visible\" transform=\"rotate(-90,200.0,200.0) translate(200.0, 200.0)\">\n",
              "<polygon points=\"-5,-4.5 0,-2.5 5,-4.5 0,4.5\" transform=\"skewX(0) scale(1,1)\" style=\"stroke:black;fill:black;stroke-width:1\" />\n",
              "</g>\n",
              "      </svg>\n",
              "    "
            ]
          },
          "metadata": {}
        },
        {
          "output_type": "display_data",
          "data": {
            "text/plain": [
              "<IPython.core.display.HTML object>"
            ],
            "text/html": [
              "\n",
              "      <svg width=\"400\" height=\"400\">  \n",
              "        <rect width=\"100%\" height=\"100%\" style=\"fill:white;stroke:gray;stroke-width:1\"/>\n",
              "        \n",
              "        \n",
              "        <path fill-rule=\"evenodd\" fill-opacity=\"1\" d=\"M 100.0 200.0  A 30 30 0 0 0 100.0 140.0  A 30 30 0 0 0 100.0 200.0 \" stroke-linecap=\"round\" style=\"stroke:red;stroke-width:1\" fill=\"red\" /><path fill-rule=\"evenodd\" fill-opacity=\"1\" d=\"M 200.0 200.0  A 30 30 0 0 0 200.0 140.0  A 30 30 0 0 0 200.0 200.0 \" stroke-linecap=\"round\" style=\"stroke:yellow;stroke-width:1\" fill=\"yellow\" /><path fill-rule=\"evenodd\" fill-opacity=\"1\" d=\"M 300.0 200.0  A 30 30 0 0 0 300.0 140.0  A 30 30 0 0 0 300.0 200.0 \" stroke-linecap=\"round\" style=\"stroke:blue;stroke-width:1\" fill=\"blue\" /><path fill-rule=\"evenodd\" fill-opacity=\"1\" d=\"M 150.0 270.0  A 30 30 0 0 0 150.0 210.0  A 30 30 0 0 0 150.0 270.0 \" stroke-linecap=\"round\" style=\"stroke:green;stroke-width:1\" fill=\"green\" /><path fill-rule=\"evenodd\" fill-opacity=\"1\" d=\"M 250.0 270.0  A 30 30 0 0 0 250.0 210.0  A 30 30 0 0 0 250.0 270.0 \" stroke-linecap=\"round\" style=\"stroke:purple;stroke-width:1\" fill=\"purple\" />\n",
              "        \n",
              "        \n",
              "        <g id=\"turtle\" visibility=\"visible\" transform=\"rotate(90.0,250.0,270.0) translate(250.0, 270.0)\">\n",
              "<path style=\"stroke:purple;fill-rule:evenodd;fill:purple;fill-opacity:1;\" transform=\"skewX(0) scale(1,1)\" d=\"m 1.1536693,-18.56101 c -2.105469,1.167969 -3.203125,3.441407 -3.140625,6.5 l 0.011719,0.519532 -0.300782,-0.15625 c -1.308594,-0.671875 -2.828125,-0.824219 -4.378906,-0.429688 -1.9375,0.484375 -3.8906253,2.089844 -6.0117193,4.9257825 -1.332031,1.785156 -1.714843,2.644531 -1.351562,3.035156 l 0.113281,0.125 h 0.363281 c 0.71875,0 1.308594,-0.265625 4.6679693,-2.113282 1.199219,-0.660156 2.183594,-1.199218 2.191406,-1.199218 0.00781,0 -0.023437,0.089844 -0.074218,0.195312 -0.472657,1.058594 -1.046876,2.785156 -1.335938,4.042969 -1.054688,4.574219 -0.351562,8.453125 2.101562,11.582031 0.28125,0.355469 0.292969,0.253906 -0.097656,0.722656 -2.046875,2.4609375 -3.027344,4.8984375 -2.734375,6.8046875 0.050781,0.339844 0.042969,0.335938 0.679688,0.335938 2.023437,0 4.15625,-1.316407 6.21875,-3.835938 0.222656,-0.269531 0.191406,-0.261719 0.425781,-0.113281 0.730469,0.46875 2.460938,1.390625 2.613281,1.390625 0.160157,0 1.765625,-0.753906 2.652344,-1.246094 0.167969,-0.09375 0.308594,-0.164062 0.308594,-0.160156 0.066406,0.105468 0.761719,0.855468 1.085937,1.171875 1.613282,1.570312 3.339844,2.402343 5.3593747,2.570312 0.324219,0.02734 0.355469,0.0078 0.425781,-0.316406 0.375,-1.742187 -0.382812,-4.058594 -2.1445307,-6.5585935 l -0.320312,-0.457031 0.15625,-0.183594 c 3.2460927,-3.824218 3.4335927,-9.08593704 0.558593,-15.816406 l -0.050781,-0.125 1.7382807,0.859375 c 3.585938,1.773437 4.371094,2.097656 5.085938,2.097656 0.945312,0 0.75,-0.863281 -0.558594,-2.507812 C 11.458356,-11.838353 8.3333563,-13.268041 4.8607003,-11.721166 l -0.363281,0.164063 0.019531,-0.09375 c 0.121094,-0.550781 0.183594,-1.800781 0.121094,-2.378907 -0.203125,-1.867187 -1.035157,-3.199218 -2.695313,-4.308593 -0.523437,-0.351563 -0.546875,-0.355469 -0.789062,-0.222657\" />\n",
              "</g><g id=\"classic\" visibility=\"visible\" transform=\"rotate(-90,200.0,200.0) translate(200.0, 200.0)\">\n",
              "<polygon points=\"-5,-4.5 0,-2.5 5,-4.5 0,4.5\" transform=\"skewX(0) scale(1,1)\" style=\"stroke:black;fill:black;stroke-width:1\" />\n",
              "</g>\n",
              "      </svg>\n",
              "    "
            ]
          },
          "metadata": {}
        },
        {
          "output_type": "display_data",
          "data": {
            "text/plain": [
              "<IPython.core.display.HTML object>"
            ],
            "text/html": [
              "\n",
              "      <svg width=\"400\" height=\"400\">  \n",
              "        <rect width=\"100%\" height=\"100%\" style=\"fill:white;stroke:gray;stroke-width:1\"/>\n",
              "        \n",
              "        \n",
              "        \n",
              "        \n",
              "        \n",
              "        <g id=\"turtle\" visibility=\"visible\" transform=\"rotate(90,200.0,200.0) translate(200.0, 200.0)\">\n",
              "<path style=\"stroke:black;fill-rule:evenodd;fill:black;fill-opacity:1;\" transform=\"skewX(0) scale(1,1)\" d=\"m 1.1536693,-18.56101 c -2.105469,1.167969 -3.203125,3.441407 -3.140625,6.5 l 0.011719,0.519532 -0.300782,-0.15625 c -1.308594,-0.671875 -2.828125,-0.824219 -4.378906,-0.429688 -1.9375,0.484375 -3.8906253,2.089844 -6.0117193,4.9257825 -1.332031,1.785156 -1.714843,2.644531 -1.351562,3.035156 l 0.113281,0.125 h 0.363281 c 0.71875,0 1.308594,-0.265625 4.6679693,-2.113282 1.199219,-0.660156 2.183594,-1.199218 2.191406,-1.199218 0.00781,0 -0.023437,0.089844 -0.074218,0.195312 -0.472657,1.058594 -1.046876,2.785156 -1.335938,4.042969 -1.054688,4.574219 -0.351562,8.453125 2.101562,11.582031 0.28125,0.355469 0.292969,0.253906 -0.097656,0.722656 -2.046875,2.4609375 -3.027344,4.8984375 -2.734375,6.8046875 0.050781,0.339844 0.042969,0.335938 0.679688,0.335938 2.023437,0 4.15625,-1.316407 6.21875,-3.835938 0.222656,-0.269531 0.191406,-0.261719 0.425781,-0.113281 0.730469,0.46875 2.460938,1.390625 2.613281,1.390625 0.160157,0 1.765625,-0.753906 2.652344,-1.246094 0.167969,-0.09375 0.308594,-0.164062 0.308594,-0.160156 0.066406,0.105468 0.761719,0.855468 1.085937,1.171875 1.613282,1.570312 3.339844,2.402343 5.3593747,2.570312 0.324219,0.02734 0.355469,0.0078 0.425781,-0.316406 0.375,-1.742187 -0.382812,-4.058594 -2.1445307,-6.5585935 l -0.320312,-0.457031 0.15625,-0.183594 c 3.2460927,-3.824218 3.4335927,-9.08593704 0.558593,-15.816406 l -0.050781,-0.125 1.7382807,0.859375 c 3.585938,1.773437 4.371094,2.097656 5.085938,2.097656 0.945312,0 0.75,-0.863281 -0.558594,-2.507812 C 11.458356,-11.838353 8.3333563,-13.268041 4.8607003,-11.721166 l -0.363281,0.164063 0.019531,-0.09375 c 0.121094,-0.550781 0.183594,-1.800781 0.121094,-2.378907 -0.203125,-1.867187 -1.035157,-3.199218 -2.695313,-4.308593 -0.523437,-0.351563 -0.546875,-0.355469 -0.789062,-0.222657\" />\n",
              "</g>\n",
              "      </svg>\n",
              "    "
            ]
          },
          "metadata": {}
        }
      ]
    },
    {
      "cell_type": "code",
      "source": [],
      "metadata": {
        "id": "DwoiiK84n04r"
      },
      "execution_count": null,
      "outputs": []
    }
  ]
}
