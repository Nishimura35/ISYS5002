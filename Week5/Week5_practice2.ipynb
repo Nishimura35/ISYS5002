{
  "nbformat": 4,
  "nbformat_minor": 0,
  "metadata": {
    "colab": {
      "provenance": [],
      "authorship_tag": "ABX9TyORx7Pzwaqwz3g5DWbNKoXN",
      "include_colab_link": true
    },
    "kernelspec": {
      "name": "python3",
      "display_name": "Python 3"
    },
    "language_info": {
      "name": "python"
    }
  },
  "cells": [
    {
      "cell_type": "markdown",
      "metadata": {
        "id": "view-in-github",
        "colab_type": "text"
      },
      "source": [
        "<a href=\"https://colab.research.google.com/github/Nishimura35/ISYS5002/blob/main/Week5/Week5_practice2.ipynb\" target=\"_parent\"><img src=\"https://colab.research.google.com/assets/colab-badge.svg\" alt=\"Open In Colab\"/></a>"
      ]
    },
    {
      "cell_type": "code",
      "execution_count": 1,
      "metadata": {
        "colab": {
          "base_uri": "https://localhost:8080/"
        },
        "id": "2GKKZriZxs7V",
        "outputId": "6d1b665e-e5d2-4e7d-9c90-7d336047f03f"
      },
      "outputs": [
        {
          "output_type": "stream",
          "name": "stdout",
          "text": [
            "--2025-03-24 01:32:16--  https://github.com/teaching-repositories/ISYS2001-ISYS5002/raw/refs/heads/main/libs/simple_bot-0.1-cp311-cp311-linux_x86_64.whl\n",
            "Resolving github.com (github.com)... 140.82.113.4\n",
            "Connecting to github.com (github.com)|140.82.113.4|:443... connected.\n",
            "HTTP request sent, awaiting response... 302 Found\n",
            "Location: https://raw.githubusercontent.com/teaching-repositories/ISYS2001-ISYS5002/refs/heads/main/libs/simple_bot-0.1-cp311-cp311-linux_x86_64.whl [following]\n",
            "--2025-03-24 01:32:16--  https://raw.githubusercontent.com/teaching-repositories/ISYS2001-ISYS5002/refs/heads/main/libs/simple_bot-0.1-cp311-cp311-linux_x86_64.whl\n",
            "Resolving raw.githubusercontent.com (raw.githubusercontent.com)... 185.199.108.133, 185.199.109.133, 185.199.110.133, ...\n",
            "Connecting to raw.githubusercontent.com (raw.githubusercontent.com)|185.199.108.133|:443... connected.\n",
            "HTTP request sent, awaiting response... 200 OK\n",
            "Length: 127250 (124K) [application/octet-stream]\n",
            "Saving to: ‘simple_bot-0.1-cp311-cp311-linux_x86_64.whl’\n",
            "\n",
            "simple_bot-0.1-cp31 100%[===================>] 124.27K  --.-KB/s    in 0.03s   \n",
            "\n",
            "2025-03-24 01:32:16 (4.49 MB/s) - ‘simple_bot-0.1-cp311-cp311-linux_x86_64.whl’ saved [127250/127250]\n",
            "\n",
            "Processing ./simple_bot-0.1-cp311-cp311-linux_x86_64.whl\n",
            "Requirement already satisfied: requests in /usr/local/lib/python3.11/dist-packages (from simple-bot==0.1) (2.32.3)\n",
            "Requirement already satisfied: charset-normalizer<4,>=2 in /usr/local/lib/python3.11/dist-packages (from requests->simple-bot==0.1) (3.4.1)\n",
            "Requirement already satisfied: idna<4,>=2.5 in /usr/local/lib/python3.11/dist-packages (from requests->simple-bot==0.1) (3.10)\n",
            "Requirement already satisfied: urllib3<3,>=1.21.1 in /usr/local/lib/python3.11/dist-packages (from requests->simple-bot==0.1) (2.3.0)\n",
            "Requirement already satisfied: certifi>=2017.4.17 in /usr/local/lib/python3.11/dist-packages (from requests->simple-bot==0.1) (2025.1.31)\n",
            "Installing collected packages: simple-bot\n",
            "Successfully installed simple-bot-0.1\n"
          ]
        }
      ],
      "source": [
        "!wget https://github.com/teaching-repositories/ISYS2001-ISYS5002/raw/refs/heads/main/libs/simple_bot-0.1-cp311-cp311-linux_x86_64.whl\n",
        "!pip install simple_bot-0.1-cp311-cp311-linux_x86_64.whl"
      ]
    },
    {
      "cell_type": "code",
      "source": [
        "# Import the simple_bot package that connects to a local Ollama server\n",
        "from simple_bot import get_response\n",
        "\n",
        "# Try it out with a single question\n",
        "question = input(\"Ask the bot something: \")\n",
        "print(\"Bot:\", get_response(question))"
      ],
      "metadata": {
        "colab": {
          "base_uri": "https://localhost:8080/"
        },
        "id": "RYlvLrfLx0w1",
        "outputId": "c996dc8e-4dc7-4299-fe10-1cd3086e160f"
      },
      "execution_count": 3,
      "outputs": [
        {
          "output_type": "stream",
          "name": "stdout",
          "text": [
            "Ask the bot something: Why is the sky blue?\n",
            "Bot: The color of the sky can appear different depending on the time of day, atmospheric conditions, and the amount of dust and water vapor in the air. However, under normal conditions, the sky typically appears blue because of a phenomenon called Rayleigh scattering.\n",
            "\n",
            "Rayleigh scattering is when shorter wavelengths of light, such as blue and violet, are scattered more than longer wavelengths, like red and orange, by tiny molecules of gases in the atmosphere, like nitrogen and oxygen. This scattering effect gives the sky its blue appearance.\n",
            "\n",
            "Here's a more detailed explanation:\n",
            "\n",
            "1. When sunlight enters Earth's atmosphere, it encounters tiny molecules of gases.\n",
            "2. The shorter wavelengths of light (blue and violet) are scattered more than the longer wavelengths (red and orange) due to their smaller size.\n",
            "3. This scattering effect distributes the blue and violet light in all directions, making it visible from our perspective on the ground.\n",
            "4. The red and orange wavelengths, which aren't scattered as much, continue to travel in a more direct path to our eyes, giving the sun its yellowish hue.\n",
            "5. As the sunlight reaches our atmosphere, the combined effect of the scattered blue light and the direct red light gives us the familiar blue sky.\n",
            "\n",
            "Keep in mind that atmospheric conditions can change the apparent color of the sky. For example:\n",
            "\n",
            "* During sunrise and sunset, the light has to travel longer distances through the atmosphere, scattering even more shorter wavelengths, making the sky appear more orange or reddish.\n",
            "* On cloudy days, the water droplets or ice crystals in clouds can scatter light differently, giving the sky a whiter or grayer appearance.\n",
            "* At high altitudes or during space missions, the lack of atmospheric gases can make the sky appear darker and more black.\n",
            "\n",
            "So, that's why the sky is blue!\n"
          ]
        }
      ]
    },
    {
      "cell_type": "code",
      "source": [
        "print(\"\\nWelcome to LoopBot! Ask me anything! Type 'bye' to quit.\")\n",
        "\n",
        "# Create a loop that continues until the user says 'bye'\n",
        "while True:\n",
        "    user_input = input(\"You: \")\n",
        "\n",
        "    # Check if the user wants to exit\n",
        "    if user_input.lower() in [\"bye\", \"quit\", \"exit\"]:\n",
        "        print(\"Bot: Goodbye! 👋\")\n",
        "        break  # Exit the loop\n",
        "\n",
        "    # Get and display the bot's response\n",
        "    reply = get_response(user_input)\n",
        "    print(\"Bot:\", reply)"
      ],
      "metadata": {
        "colab": {
          "base_uri": "https://localhost:8080/"
        },
        "id": "IUIJg6dDydQ6",
        "outputId": "407a0da7-2d46-4c6a-868f-bee12ab1190f"
      },
      "execution_count": null,
      "outputs": [
        {
          "metadata": {
            "tags": null
          },
          "name": "stdout",
          "output_type": "stream",
          "text": [
            "\n",
            "Welcome to LoopBot! Ask me anything! Type 'bye' to quit.\n"
          ]
        }
      ]
    },
    {
      "cell_type": "code",
      "source": [
        "print(\"\\nWelcome to MemoryBot! I'll try to remember what you say.\")\n",
        "\n",
        "# Create an empty list to store the conversation history\n",
        "memory = []\n",
        "\n",
        "while True:\n",
        "    user_input = input(\"You: \")\n",
        "\n",
        "    # Check if the user wants to exit\n",
        "    if user_input.lower() in [\"bye\", \"quit\", \"exit\"]:\n",
        "        print(\"Bot: Chat ended. I remembered\", len(memory), \"messages. Bye! 👋\")\n",
        "        break\n",
        "\n",
        "    # Add the user's input to our memory list\n",
        "    memory.append(user_input)\n",
        "\n",
        "    # Display the bot's response\n",
        "    response = get_response(user_input)\n",
        "    print(\"Bot:\", response)\n",
        "\n",
        "    # Show the user what's in the bot's memory if they ask\n",
        "    if \"what do you remember\" in user_input.lower():\n",
        "        print(\"Bot memory contains:\")\n",
        "        for i, message in enumerate(memory):\n",
        "            print(f\"  {i+1}. {message}\")"
      ],
      "metadata": {
        "id": "kZIEpRooy2K0"
      },
      "execution_count": null,
      "outputs": []
    },
    {
      "cell_type": "code",
      "source": [
        "# This is example code - study it and then implement your own version below\n",
        "print(\"\\nAdvanced MemoryBot Example (non-executable)\")\n",
        "\n",
        "memory = []  # List to store messages\n",
        "commands = [\"help\", \"memory\", \"clear\", \"bye\"]  # List of available commands\n",
        "\n",
        "while True:\n",
        "    user_input = input(\"You: \")\n",
        "\n",
        "    if user_input.lower() == \"bye\":\n",
        "        print(\"Bot: Goodbye!\")\n",
        "        break\n",
        "    elif user_input.lower() == \"help\":\n",
        "        print(\"Available commands:\", \", \".join(commands))\n",
        "    elif user_input.lower() == \"memory\":\n",
        "        print(\"I remember:\", memory)\n",
        "    elif user_input.lower() == \"clear\":\n",
        "        memory = []  # Clear the list\n",
        "        print(\"Memory cleared!\")\n",
        "    else:\n",
        "        memory.append(user_input)\n",
        "        # Keep only the last 3 items\n",
        "        if len(memory) > 3:\n",
        "            memory = memory[-3:]  # List slicing to keep only the last 3 items\n",
        "\n",
        "        # Join the memory items with newlines to create context\n",
        "        context = \"\\n\".join(memory)\n",
        "\n",
        "        # Send the context to get a more informed response\n",
        "        print(\"Bot:\", get_response(context))\n",
        "        print(\"(Memory size:\", len(memory), \"messages)\")"
      ],
      "metadata": {
        "id": "5CXCWpqkz0B_"
      },
      "execution_count": null,
      "outputs": []
    }
  ]
}