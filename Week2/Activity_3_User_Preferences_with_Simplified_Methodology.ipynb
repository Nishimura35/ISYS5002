{
  "cells": [
    {
      "cell_type": "markdown",
      "metadata": {
        "id": "view-in-github",
        "colab_type": "text"
      },
      "source": [
        "<a href=\"https://colab.research.google.com/github/teaching-repositories/ISYS2001-ISYS5002/blob/main/Week%202%20Notebooks/Activity_3_User_Preferences_with_Simplified_Methodology.ipynb\" target=\"_parent\"><img src=\"https://colab.research.google.com/assets/colab-badge.svg\" alt=\"Open In Colab\"/></a>"
      ]
    },
    {
      "cell_type": "raw",
      "metadata": {
        "id": "BVl9c3txT5Lz"
      },
      "source": [
        "---\n",
        "title: \"Activity 3: User Preferences with Simplified Methodology\"\n",
        "subtitle: \"From Blueprint to Code: Building Your User Preferences Programme Step by Step\"\n",
        "author: \"Michael Borck\"\n",
        "format:\n",
        "  pdf:\n",
        "      toc: false\n",
        "      colorlinks: true\n",
        "  docx:\n",
        "      toc: false\n",
        "      highlight-style: github\n",
        "  html:\n",
        "      toc: true\n",
        "      toc-expand: 2\n",
        "      embed-resources: true\n",
        "---"
      ]
    },
    {
      "cell_type": "markdown",
      "metadata": {
        "id": "NhlQhVw3T5L0"
      },
      "source": [
        "# Activity 3: User Preferences with Simplified Methodology\n",
        "\n",
        "## Learning Outcome\n",
        "\n",
        "Apply a structured problem-solving methodology to design and implement a User Preferences programme. In this activity, you will practice computational thinking by breaking down the problem into manageable steps—from planning and pseudocode to coding your final solution—and learn how to use AI tools to support your process.\n",
        "\n",
        "\n",
        "\n",
        "## Step 1 – State the Problem\n",
        "\n",
        "- **Goal:**  \n",
        "  Build a programme that collects several user preferences and then displays these preferences in a clear, personalised summary.\n",
        "  \n",
        "- **Considerations:**  \n",
        "  - What information should the programme gather?  \n",
        "    *(For example: name, favourite colour, favourite food, hobby, etc.)*\n",
        "  - How should the programme present this information?  \n",
        "    *(For example: a greeting message that summarizes all responses.)*\n",
        "\n",
        "*Reflect:* Write down in your own words what you want the programme to achieve.\n",
        "\n",
        "**AI Tip:**  \n",
        "Use an AI tool (like ChatGPT) to help you rephrase your description. For instance, ask:  \n",
        "> \"Can you restate my description of a user preferences programme to ensure I have captured the intent correctly?\"  \n",
        "Then, review the response to confirm that it aligns with what you have learned so far—using only input(), print(), basic primitive datatypes, and variables.\n",
        "\n",
        "\n",
        "\n",
        "## Step 2 – Describe Input and Output\n",
        "\n",
        "- **Inputs:**  \n",
        "  List the information you plan to ask for. For example:\n",
        "  - Name\n",
        "  - Favourite Colour\n",
        "  - Favourite Food\n",
        "  - Favourite Hobby\n",
        "\n",
        "- **Output:**  \n",
        "  Decide on the format of your summary message. For instance:\n",
        "  > \"Hello, [name]! Your favourite colour is [colour], you love [food], and you enjoy [hobby].\"\n",
        "\n",
        "*Tip:* Mapping your inputs to the expected output helps you see the overall flow of your programme.\n",
        "\n",
        "**AI Tip:**  \n",
        "Ask an AI tool for suggestions by saying, \"What are some creative ways to format a user preferences summary?\" Ensure the answer only uses concepts you’ve learned so far.\n",
        "\n",
        "\n",
        "\n",
        "## Step 3 – Work the Problem by Hand\n",
        "\n",
        "Before writing any code, simulate the process:\n",
        "- **Sample Inputs:**  \n",
        "  Imagine a user named \"Alice\" who selects:\n",
        "  - Favourite Colour: Blue\n",
        "  - Favourite Food: Pasta\n",
        "  - Favourite Hobby: Reading\n",
        "\n",
        "- **Expected Output:**  \n",
        "  Write down the expected result:\n",
        "  > \"Hello, Alice! Your favourite colour is Blue, you love Pasta, and you enjoy Reading.\"\n",
        "\n",
        "*Exercise:* Try a couple of different input scenarios to ensure your plan is clear.\n",
        "\n",
        "**AI Tip:**  \n",
        "If you're unsure about your expected output, ask an AI tool:  \n",
        "> \"Does this output message clearly reflect the inputs provided?\"  \n",
        "This helps you verify your understanding using only the concepts you have learned.\n",
        "\n",
        "\n",
        "\n",
        "## Step 4 – Develop an Algorithm (Pseudocode)\n",
        "\n",
        "Outline your approach using pseudocode. This bridges your plan to actual code. For example:\n",
        "\n",
        "```plain\n",
        "# Pseudocode for User Preferences Programme\n",
        "\n",
        "1. Start the programme.\n",
        "2. Prompt the user for their name and store the input.\n",
        "3. Prompt the user for their favourite colour and store the input.\n",
        "4. Prompt the user for their favourite food and store the input.\n",
        "5. Prompt the user for their favourite hobby and store the input.\n",
        "6. Construct a summary message using the stored inputs.\n",
        "7. Print the summary message.\n",
        "8. End the programme.\n",
        "```\n",
        "\n",
        "*Tip:* Your pseudocode doesn’t need to follow Python syntax—it should simply outline the logical steps of your solution.\n",
        "\n",
        "**AI Tip:**  \n",
        "Ask an AI tool, \"Can you check my pseudocode for a user preferences programme and suggest any improvements?\" Verify that the suggestions remain within the current scope of your learning (i.e., no advanced concepts like functions or f-strings yet).\n",
        "\n",
        "\n",
        "\n",
        "## Step 5 – Write the Code\n",
        "\n",
        "Now, use your plan to build the actual programme. Use the skeleton below to guide you:"
      ]
    },
    {
      "cell_type": "code",
      "metadata": {
        "id": "aDdI1HnLT5L1"
      },
      "source": [
        "# Step 5: Final Implementation of User Preferences Programme\n",
        "\n",
        "# Collect user input for various preferences\n",
        "name = input(\"What is your name? \")\n",
        "favourite_colour = input(\"What's your favourite colour? \")\n",
        "favourite_food = input(\"What's your favourite food? \")\n",
        "favourite_hobby = input(\"What's your favourite hobby? \")\n",
        "\n",
        "# Construct and display a personalised summary message\n",
        "print(\"\\nHello, \" + name + \"!\")\n",
        "print(\"Your favourite colour is \" + favourite_colour +\n",
        "      \", you love \" + favourite_food +\n",
        "      \", and you enjoy \" + favourite_hobby + \".\")"
      ],
      "execution_count": null,
      "outputs": []
    },
    {
      "cell_type": "markdown",
      "metadata": {
        "id": "T8XWUUoST5L2"
      },
      "source": [
        "*Run the cell above to test your programme.*\n",
        "\n",
        "**AI Tip:**  \n",
        "If you encounter any errors or have questions about your code, ask follow-up questions like, \"How can I improve this code using only input(), print(), and variables?\" This will help ensure the solutions align with what you have learned so far.\n",
        "\n",
        "\n",
        "\n",
        "## Mini-Challenges\n",
        "\n",
        "Enhance your programme further by trying these optional challenges:\n",
        "\n",
        "1. **Starred Preferences:**  \n",
        "   Modify your output so each preference is printed on a new line with a star (`*`) at the beginning.  \n",
        "   *Example:*"
      ]
    },
    {
      "cell_type": "code",
      "metadata": {
        "md-indent": "   ",
        "id": "_PGW6vtDT5L2"
      },
      "source": [
        "print(\"* Name:\", name)\n",
        "print(\"* Favourite Colour:\", favourite_colour)\n",
        "print(\"* Favourite Food:\", favourite_food)\n",
        "print(\"* Favourite Hobby:\", favourite_hobby)"
      ],
      "execution_count": null,
      "outputs": []
    },
    {
      "cell_type": "markdown",
      "metadata": {
        "id": "61yce5LjT5L2"
      },
      "source": [
        "2. **Age Calculator Challenge:**  \n",
        "   Ask the user for their birth year, calculate their age based on the current year, and print it.  \n",
        "   *Hint:* You may use the `datetime` module to get the current year—but remember, for now, focus on what you have learned. If this concept is new, you might ask an AI for a simpler explanation or a step-by-step guide."
      ]
    },
    {
      "cell_type": "code",
      "metadata": {
        "md-indent": "   ",
        "id": "3vH_pGooT5L2"
      },
      "source": [
        "import datetime\n",
        "birth_year = int(input(\"What year were you born? \"))\n",
        "current_year = datetime.datetime.now().year\n",
        "age = current_year - birth_year\n",
        "print(\"You are\", age, \"years old!\")"
      ],
      "execution_count": null,
      "outputs": []
    },
    {
      "cell_type": "markdown",
      "metadata": {
        "id": "_ePVVkzET5L2"
      },
      "source": [
        "3. **(Optional Advanced) F-String Formatting:**  \n",
        "   Refactor your summary message using f-strings for cleaner syntax.  \n",
        "   *Note:* This is optional and intended for those ready to explore a more advanced concept. If you're not familiar with f-strings yet, feel free to ask for a beginner-friendly explanation."
      ]
    },
    {
      "cell_type": "code",
      "metadata": {
        "md-indent": "   ",
        "id": "LSqhVTdUT5L3"
      },
      "source": [
        "print(f\"Hello, {name}! Your favourite colour is {favourite_colour}, you love {favourite_food}, and you enjoy {favourite_hobby}.\")"
      ],
      "execution_count": null,
      "outputs": []
    },
    {
      "cell_type": "markdown",
      "metadata": {
        "id": "6uqX_ct3T5L3"
      },
      "source": [
        "**AI Tip:**  \n",
        "For each mini-challenge, ask AI questions like, \"Can you explain how to print multiple lines in Python?\" or \"What is an f-string, and how do I use it?\" Always follow up if any part of the explanation is unclear.\n",
        "\n",
        "\n",
        "\n",
        "## Reflection and Next Steps\n",
        "\n",
        "- **Reflect:**  \n",
        "  - What did you find most helpful about planning your programme before coding?\n",
        "  - Did working through the pseudocode make the coding process easier?\n",
        "  - Which mini-challenge did you enjoy the most, and why?\n",
        "  - How did using AI tools help clarify the problem and refine your approach?\n",
        "\n",
        "- **General AI Usage Tip:**  \n",
        "  If you receive any suggestions from an AI tool that include concepts not yet covered (like exceptions, import statements, user-defined functions, or f-strings), ask follow-up questions to have them explained using only the topics you’ve learned so far (input(), print(), basic primitive datatypes, and variables). Critically evaluate the output to ensure it aligns with your current learning.\n",
        "\n",
        "- **Next Steps:**  \n",
        "  - Experiment by adding more preferences or modifying the output format.\n",
        "  - Share your approach with peers and discuss any creative solutions you discovered.\n",
        "  - Continue using AI tools as a resource, but always ask follow-up questions on anything you don’t understand and ensure that the advice is consistent with your course content.\n",
        "\n",
        "\n",
        "\n",
        "Happy coding and enjoy the process of turning your blueprint into a working programme!"
      ]
    }
  ],
  "metadata": {
    "kernelspec": {
      "name": "python3",
      "language": "python",
      "display_name": "Python 3 (ipykernel)"
    },
    "colab": {
      "provenance": [],
      "include_colab_link": true
    }
  },
  "nbformat": 4,
  "nbformat_minor": 0
}
