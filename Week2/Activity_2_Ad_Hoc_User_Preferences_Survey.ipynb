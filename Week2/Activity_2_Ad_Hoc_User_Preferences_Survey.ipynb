{
  "cells": [
    {
      "cell_type": "markdown",
      "metadata": {
        "id": "view-in-github",
        "colab_type": "text"
      },
      "source": [
        "<a href=\"https://colab.research.google.com/github/teaching-repositories/ISYS2001-ISYS5002/blob/main/Week%202%20Notebooks/Activity_2_Ad_Hoc_User_Preferences_Survey.ipynb\" target=\"_parent\"><img src=\"https://colab.research.google.com/assets/colab-badge.svg\" alt=\"Open In Colab\"/></a>"
      ]
    },
    {
      "cell_type": "raw",
      "metadata": {
        "id": "HkTz__1UUU--"
      },
      "source": [
        "---\n",
        "title: \"Activity 2: Ad-Hoc User Preferences Survey\"\n",
        "subtitle: \"Explore and Experiment: Crafting Your Own User Preferences Survey\"\n",
        "author: \"Michael Borck\"\n",
        "format:\n",
        "  pdf:\n",
        "      toc: false\n",
        "      colorlinks: true\n",
        "  docx:\n",
        "      toc: false\n",
        "      highlight-style: github\n",
        "  html:\n",
        "      toc: true\n",
        "      toc-expand: 2\n",
        "      embed-resources: true\n",
        "---"
      ]
    },
    {
      "cell_type": "markdown",
      "metadata": {
        "id": "DNGRxuC3UU-_"
      },
      "source": [
        "# Activity 2: Ad-Hoc User Preferences Survey\n",
        "\n",
        "## Learning Outcome\n",
        "\n",
        "Explore how to gather and display user preferences through an open-ended programming task. This activity encourages experimentation and resourcefulness with the concepts of input and output in Python.\n",
        "\n",
        "## Instructions\n",
        "\n",
        "1. **Write a Python Script:**  \n",
        "   Develop a programme that asks the user about their preferences and then presents those preferences back to them.\n",
        "\n",
        "2. **Gather Preferences:**  \n",
        "   - Choose at least three different preferences to ask the user about (for example, favourite colour, favourite food, favourite hobby, favourite movie, etc.).\n",
        "   - Use the `input()` function to capture the user’s responses.\n",
        "  \n",
        "3. **Present Preferences:**  \n",
        "   - Use the `print()` function to display the gathered preferences in a clear and organised manner.\n",
        "   - Consider constructing a summary message that incorporates the user’s inputs, for example:  \n",
        "     \n",
        "     > \"Hello, [name]! Your favourite colour is [colour], you love [food], and you enjoy [hobby].\"\n",
        "\n",
        "\n",
        "## Step-by-Step Guide\n",
        "\n",
        "### Step 1: Creating the Survey\n",
        "\n",
        "Below is an example code cell that gathers several user preferences. Run this cell to see how it works. Feel free to modify the prompts or add new ones as you experiment."
      ]
    },
    {
      "cell_type": "code",
      "metadata": {
        "id": "ITSuxAlsUU_A"
      },
      "source": [
        "# Sample survey program\n",
        "\n",
        "# Ask the user for their preferences\n",
        "name = input(\"What's your name? \")\n",
        "favourite_colour = input(\"What's your favourite colour? \")\n",
        "favourite_food = input(\"What's your favourite food? \")\n",
        "favourite_movie = input(\"What's your favourite movie? \")\n",
        "\n",
        "# Construct and display a summary message\n",
        "print(\"\\nHello, \" + name + \"!\")\n",
        "print(\"Your favourite colour is \" + favourite_colour + \", you love \" + favourite_food +\n",
        "      \", and your favourite movie is \" + favourite_movie + \".\")"
      ],
      "execution_count": null,
      "outputs": []
    },
    {
      "cell_type": "markdown",
      "metadata": {
        "id": "9rAvgDnZUU_B"
      },
      "source": [
        "### Step 2: Experimentation and Extension\n",
        "\n",
        "Now it's your turn. Extend the program by adding more preferences or by reformatting the output. Here are a few ideas to experiment with:\n",
        "\n",
        "- **Additional Preferences:**  \n",
        "  Add another input prompt, such as asking for the user's favourite hobby.\n",
        "  \n",
        "- **Output Formatting:**  \n",
        "  Experiment with printing your summary message on multiple lines or using different string methods (e.g., `.upper()` or `.lower()`).\n",
        "\n",
        "Try the following skeleton code to guide your modifications:"
      ]
    },
    {
      "cell_type": "code",
      "metadata": {
        "id": "o1kgXjiuUU_B"
      },
      "source": [
        "# TODO: Add another preference.\n",
        "# For example:\n",
        "# favourite_hobby = input(\"What's your favourite hobby? \")\n",
        "\n",
        "# TODO: Update the summary message to include your new preference.\n",
        "# For example:\n",
        "# print(\"Hello, \" + name + \"!\")\n",
        "# print(\"Your favourite colour is \" + favourite_colour +\n",
        "#       \", you love \" + favourite_food +\n",
        "#       \", your favourite movie is \" + favourite_movie +\n",
        "#       \", and you enjoy \" + favourite_hobby + \".\")"
      ],
      "execution_count": null,
      "outputs": []
    },
    {
      "cell_type": "markdown",
      "metadata": {
        "id": "dh6i1FkPUU_B"
      },
      "source": [
        "## Guidance\n",
        "\n",
        "- **Approach Freely:**  \n",
        "  You are free to design your programme in any way that demonstrates your understanding of the concepts.\n",
        "  \n",
        "- **Utilise Resources:**  \n",
        "  Feel free to explore online tutorials, ask peers, or use reference materials that support your learning.\n",
        "  \n",
        "- **Experiment and Explore:**  \n",
        "  The goal is to experiment with the concepts you have learned so far. Creativity is encouraged—there is no single correct way to complete this task!\n",
        "\n",
        "\n",
        "\n",
        "## Mini-Challenges\n",
        "\n",
        "These mini-challenges are designed to further stimulate your creativity and problem-solving skills:\n",
        "\n",
        "1. **Starred Preferences:**  \n",
        "   Print each preference on a separate line, with a star (`*`) at the beginning of each line."
      ]
    },
    {
      "cell_type": "code",
      "metadata": {
        "md-indent": "   ",
        "id": "PPkUtTCzUU_B"
      },
      "source": [
        "# TODO: Modify the summary to print each preference on a separate line with a star.\n",
        "# For example, the output could look like:\n",
        "# * Name: John\n",
        "# * Favourite Colour: Blue\n",
        "# * Favourite Food: Pizza\n",
        "# * Favourite Movie: Inception"
      ],
      "execution_count": null,
      "outputs": []
    },
    {
      "cell_type": "markdown",
      "metadata": {
        "id": "gwZ2g-3TUU_C"
      },
      "source": [
        "2. **Age Calculator:**  \n",
        "   Ask the user for their birth year and calculate how old they will be this year.\n",
        "   \n",
        "   *Hint: You may use the `datetime` module to get the current year.*"
      ]
    },
    {
      "cell_type": "code",
      "metadata": {
        "md-indent": "   ",
        "id": "wCsGr299UU_C"
      },
      "source": [
        "# TODO: Ask the user for their birth year and calculate their age.\n",
        "# For example:\n",
        "# birth_year = int(input(\"What year were you born? \"))\n",
        "# import datetime\n",
        "# current_year = datetime.datetime.now().year\n",
        "# age = current_year - birth_year\n",
        "# print(\"You are\", age, \"years old!\")"
      ],
      "execution_count": null,
      "outputs": []
    },
    {
      "cell_type": "markdown",
      "metadata": {
        "id": "8UxnCdOAUU_E"
      },
      "source": [
        "3. **F-String Formatting Challenge:**  \n",
        "   Refactor your summary message to use Python's f-string formatting instead of string concatenation."
      ]
    },
    {
      "cell_type": "code",
      "metadata": {
        "md-indent": "   ",
        "id": "Tvdch6KCUU_G"
      },
      "source": [
        "# TODO: Rewrite your summary message using f-strings.\n",
        "# For example:\n",
        "# print(f\"Hello, {name}! Your favourite colour is {favourite_colour}, you love {favourite_food}, and your favourite movie is {favourite_movie}.\")"
      ],
      "execution_count": null,
      "outputs": []
    },
    {
      "cell_type": "markdown",
      "metadata": {
        "id": "283nj4yUUU_H"
      },
      "source": [
        "## Reflection\n",
        "\n",
        "After completing your script and mini-challenges, take a few moments to reflect on the following:\n",
        "\n",
        "- What method did you choose for gathering user preferences?\n",
        "- How did you decide which preferences to ask?\n",
        "- Were there any challenges in organising your output message? How did you overcome them?\n",
        "- How might you further refine or expand your programme?\n",
        "\n",
        "\n",
        "Happy coding and enjoy the creative process!"
      ]
    }
  ],
  "metadata": {
    "kernelspec": {
      "name": "python3",
      "language": "python",
      "display_name": "Python 3 (ipykernel)"
    },
    "colab": {
      "provenance": [],
      "include_colab_link": true
    }
  },
  "nbformat": 4,
  "nbformat_minor": 0
}
