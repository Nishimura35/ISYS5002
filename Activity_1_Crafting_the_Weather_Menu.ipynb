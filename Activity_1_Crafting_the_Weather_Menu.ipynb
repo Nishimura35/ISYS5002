{
  "cells": [
    {
      "cell_type": "markdown",
      "metadata": {
        "id": "view-in-github",
        "colab_type": "text"
      },
      "source": [
        "<a href=\"https://colab.research.google.com/github/teaching-repositories/ISYS2001-ISYS5002/blob/main/Week%203%20Notebooks/Activity_1_Crafting_the_Weather_Menu.ipynb\" target=\"_parent\"><img src=\"https://colab.research.google.com/assets/colab-badge.svg\" alt=\"Open In Colab\"/></a>"
      ]
    },
    {
      "cell_type": "markdown",
      "metadata": {
        "id": "zQ-ZrBN5AG1V"
      },
      "source": [
        "# Activity 1: Crafting the Weather Menu\n",
        "\n",
        "## Introduction\n",
        "\n",
        "A user interface (UI) is the part of a computer program that allows users to interact with it. In this activity, we are using a text-based menu—a simple yet effective form of UI—to present options to the user. This approach is a great starting point because it helps you understand the fundamentals of user interaction in a program, which is a stepping stone to building more sophisticated graphical interfaces in the future.\n",
        "\n",
        "## Overview\n",
        "\n",
        "In this activity you will create a text-based menu that presents the following options:\n",
        "1. Check Temperature  \n",
        "2. Check Humidity  \n",
        "3. Check Wind Speed  \n",
        "4. Exit  \n",
        "\n",
        "The goal is to use the `print()` function to display these options and `input()` to capture the user’s selection. Later, you can extend your program so that each option triggers a different response in the code.\n",
        "\n",
        "> **Tip:** When planning your menu, consider how clear and concise text can help guide the user through your program."
      ]
    },
    {
      "cell_type": "markdown",
      "metadata": {
        "id": "ReGRCJnpAG1X"
      },
      "source": [
        "---\n",
        "\n",
        "### Step 1: Display the Menu\n",
        "\n",
        "Use the `print()` function to list your menu options.  \n",
        "Run the cell below to see an example of how to display a menu."
      ]
    },
    {
      "cell_type": "code",
      "execution_count": null,
      "metadata": {
        "id": "z5B3MLTzAG1Z"
      },
      "outputs": [],
      "source": [
        "# Displaying the weather menu options\n",
        "print(\"Weather Menu:\")\n",
        "print(\"1. Check Temperature\")\n",
        "print(\"2. Check Humidity\")\n",
        "print(\"3. Check Wind Speed\")\n",
        "print(\"4. Exit\")"
      ]
    },
    {
      "cell_type": "raw",
      "metadata": {
        "id": "qlKFkQJYAG1c"
      },
      "source": [
        "> **Note:** Organising your menu in a numbered list makes it easier for the user to understand their options.\n",
        "\n",
        "> **AI Prompt:** If you’re looking for more creative ways to display a menu, ask, \"Can you suggest alternative layouts for a text-based weather menu using print()?\"\n",
        "\n",
        "---"
      ]
    },
    {
      "cell_type": "markdown",
      "metadata": {
        "id": "_XLYcvskAG1d"
      },
      "source": [
        "### Step 2: Capturing User Input\n",
        "\n",
        "After displaying the menu, you need to capture the user’s selection.  \n",
        "Use the `input()` function to prompt the user.  \n",
        "Run the cell below to see how to capture and store the user's choice."
      ]
    },
    {
      "cell_type": "code",
      "execution_count": null,
      "metadata": {
        "id": "Wsu8gGxjAG1d"
      },
      "outputs": [],
      "source": [
        "# Prompting the user to enter their choice\n",
        "choice = input(\"Enter your choice (1-4): \")\n",
        "print(\"You selected option:\", choice)"
      ]
    },
    {
      "cell_type": "markdown",
      "metadata": {
        "id": "1KkLAsaxAG1d"
      },
      "source": [
        "> **Tip:** Using clear prompts with `input()` helps avoid confusion and ensures users know what is expected.\n",
        "\n",
        "> **AI Prompt:** If you need further explanation, ask, \"How does input() work in Python to capture user input?\""
      ]
    },
    {
      "cell_type": "raw",
      "metadata": {
        "id": "zWi6hZWaAG1e"
      },
      "source": [
        "---\n",
        "\n",
        "### Step 3: Discussing the Options\n",
        "\n",
        "Each option in your menu could trigger a different block of code in your program. For example:\n",
        "\n",
        "- **Option 1: Check Temperature**\n",
        "  This option might prompt the user for the current temperature and then display a message based on the temperature value.\n",
        "\n",
        "- **Option 2: Check Humidity**\n",
        "  Here, the program could ask for the humidity level and provide a message like \"It's quite humid today\" or \"The air is dry.\"\n",
        "\n",
        "- **Option 3: Check Wind Speed**\n",
        "  This might involve asking for the wind speed and advising the user on the weather conditions accordingly.\n",
        "\n",
        "- **Option 4: Exit**\n",
        "  This option will end the program.\n",
        "\n",
        "> **Note:** Think of each menu option as a separate branch of your program logic. Later you can use conditionals to determine what happens based on the user's choice.\n",
        "\n",
        "---"
      ]
    },
    {
      "cell_type": "markdown",
      "metadata": {
        "id": "D7EhglvhAG1e"
      },
      "source": [
        "### Step 4: Experiment and Extend\n",
        "\n",
        "Now it is your turn:  \n",
        "- Modify the menu or add additional options if you like.  \n",
        "- Try adding simple conditionals (using if-else) so that your program prints a different message for each menu option.\n",
        "\n",
        "For example, you can start by adding an if-else structure:"
      ]
    },
    {
      "cell_type": "code",
      "execution_count": null,
      "metadata": {
        "id": "qgnYz4t2AG1e"
      },
      "outputs": [],
      "source": [
        "# Example of a simple decision structure based on the user's choice\n",
        "if choice == \"1\":\n",
        "    print(\"You chose to check the temperature.\")\n",
        "elif choice == \"2\":\n",
        "    print(\"You chose to check the humidity.\")\n",
        "elif choice == \"3\":\n",
        "    print(\"You chose to check the wind speed.\")\n",
        "elif choice == \"4\":\n",
        "    print(\"Exiting the program.\")\n",
        "else:\n",
        "    print(\"Invalid choice. Please select a valid option.\")"
      ]
    },
    {
      "cell_type": "markdown",
      "metadata": {
        "id": "hatuoAXZAG1f"
      },
      "source": [
        "> **Tip:** Begin with a simple if-else structure to handle the user's input, and then expand your code gradually as you become more comfortable with conditionals.\n",
        "\n",
        "> **AI Prompt:** If you need more ideas, ask, \"Can you explain how to use if-else statements to handle user input in a Python text-based menu?\""
      ]
    },
    {
      "cell_type": "raw",
      "metadata": {
        "id": "oFN49ScjAG1f"
      },
      "source": [
        "---\n",
        "\n",
        "## Reflection\n",
        "\n",
        "- How does using a menu improve the user experience of a text-based program?\n",
        "- What might be some additional options you could include in a weather application?\n",
        "- How could each option be developed further to provide more detailed weather information?\n",
        "\n",
        "> **Note:** Reflect on these questions to identify ways to enhance your program and to solidify your understanding of user interaction in text-based applications.\n",
        "\n",
        "---"
      ]
    },
    {
      "cell_type": "markdown",
      "metadata": {
        "id": "6xs9X_rDAG1f"
      },
      "source": [
        "## Summary\n",
        "\n",
        "In this activity, you learned to:  \n",
        "- Use `print()` to display a menu of options.  \n",
        "- Use `input()` to capture a user’s selection.  \n",
        "- Begin thinking about how each menu option could trigger different code responses.\n",
        "\n",
        "> **Tip:** This activity lays the groundwork for building interactive, user-driven applications. Continue experimenting and extending your code to develop a more robust weather menu.\n",
        "\n",
        "Enjoy exploring and extending your weather menu!"
      ]
    }
  ],
  "metadata": {
    "kernelspec": {
      "display_name": "Python 3 (ipykernel)",
      "language": "python",
      "name": "python3"
    },
    "colab": {
      "provenance": [],
      "include_colab_link": true
    }
  },
  "nbformat": 4,
  "nbformat_minor": 0
}