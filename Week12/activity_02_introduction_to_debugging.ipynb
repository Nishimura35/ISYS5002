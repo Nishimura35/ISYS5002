{
  "cells": [
    {
      "cell_type": "markdown",
      "metadata": {
        "id": "view-in-github",
        "colab_type": "text"
      },
      "source": [
        "<a href=\"https://colab.research.google.com/github/Nishimura35/ISYS5002/blob/main/Week12/activity_02_introduction_to_debugging.ipynb\" target=\"_parent\"><img src=\"https://colab.research.google.com/assets/colab-badge.svg\" alt=\"Open In Colab\"/></a>"
      ]
    },
    {
      "cell_type": "markdown",
      "metadata": {
        "id": "8rQQrGvjPWYt"
      },
      "source": [
        "## Learning Objectives\n",
        "By the end of this activity, you will be able to:\n",
        "- Identify and rectify common syntax, runtime, and logical errors in Python code.\n",
        "- **Utilise print statements and basic logging for program tracing and error identification.**\n",
        "- **Understand the role of AI tools as assistants in the debugging process and apply them ethically.**\n",
        "- **Begin to explore the use of debugger tools like breakpoints (conceptual introduction).**\n",
        "- Develop analytical skills to understand error messages and improve faulty code.\n",
        "\n",
        "## Introduction\n",
        "Writing code is an act of creation, and like any creative process, it often involves a bit of trial and error! Debugging – the art of finding and fixing errors – is a fundamental skill for any programmer. This activity will introduce you to common error types, foundational debugging techniques, and how modern AI tools can assist you in becoming a more effective \"Code Detective.\"\n",
        "\n",
        "## Key Concepts\n",
        "- **Syntax Errors**: Mistakes in the code's grammar that prevent the Python interpreter from understanding it (e.g., typos, missing colons). The program won't run.\n",
        "- **Runtime Errors**: Errors that occur *while* the program is running, often due to unexpected situations (e.g., trying to divide by zero, accessing a file that doesn't exist). The program starts but then crashes.\n",
        "- **Logical Errors**: The trickiest kind! The program runs without crashing, but it doesn't do what you intended, producing incorrect results or unexpected behaviour.\n",
        "\n",
        "## Foundational Debugging Techniques\n",
        "\n",
        "### 1. Reading the Tea Leaves: Understanding Error Messages\n",
        "Python's error messages (tracebacks) are your first clue! They tell you:\n",
        "- The *type* of error.\n",
        "- The *file and line number* where the error occurred.\n",
        "- A brief *description* of the problem.\n",
        "\n",
        "**Activity 0: Decipher the Error (Warm-up)**\n",
        "Look at this error message. What can you tell from it?\n",
        "```\n",
        "\n",
        "Traceback (most recent call last):\n",
        "File \"my\\_script.py\", line 5, in \\<module\\>\n",
        "result = x / y\n",
        "ZeroDivisionError: division by zero\n",
        "\n",
        "```\n",
        "*Your response:*\n",
        "*(Expected: Error is ZeroDivisionError, happened in my_script.py on line 5, tried to divide by zero)*\n",
        "\n",
        "### 2. The Investigator's Magnifying Glass: `print()` Statements\n",
        "The humble `print()` statement is one of the most powerful and accessible debugging tools. You can insert `print()` statements at various points in your code to:\n",
        "- Check the values of variables at different stages.\n",
        "- See if certain parts of your code are being executed.\n",
        "- Understand the flow of your program.\n",
        "\n",
        "**Example:**"
      ]
    },
    {
      "cell_type": "code",
      "metadata": {
        "id": "7-BWF0cePWYv"
      },
      "source": [
        "def calculate_area(length, width):\n",
        "    print(f\"Calculating area with length: {length}, width: {width}\") # Check inputs\n",
        "    area = length * width\n",
        "    print(f\"Calculated area: {area}\") # Check result before returning\n",
        "    return area\n",
        "\n",
        "# calculate_area(5, \"3\") # This would cause an error, print would show \"3\" is a string"
      ],
      "execution_count": null,
      "outputs": []
    },
    {
      "cell_type": "markdown",
      "metadata": {
        "id": "GsQK79ADPWYx"
      },
      "source": [
        "### 3. Basic Logging: Keeping a Diary of Your Code\n",
        "\n",
        "Logging is like a more organised version of `print()` statements, especially for larger programs or when you want to record information to a file. Python has a built-in `logging` module. For beginners, even a simple approach can be helpful.\n",
        "\n",
        "**Simplified Logging Idea (for beginners):**\n",
        "Instead of just `print()`, you could write messages to a list or a simple file to track events."
      ]
    },
    {
      "cell_type": "code",
      "metadata": {
        "id": "vm9893GFPWYx"
      },
      "source": [
        "log_messages = []\n",
        "\n",
        "def process_data(data):\n",
        "    log_messages.append(f\"Starting to process: {data}\")\n",
        "    if not isinstance(data, int):\n",
        "        log_messages.append(f\"Error: Data {data} is not an integer!\")\n",
        "        return None\n",
        "    result = data * 2\n",
        "    log_messages.append(f\"Finished processing. Result: {result}\")\n",
        "    return result\n",
        "\n",
        "process_data(5)\n",
        "process_data(\"oops\")\n",
        "# print(\"\\n\".join(log_messages)) # Review your log"
      ],
      "execution_count": null,
      "outputs": []
    },
    {
      "cell_type": "markdown",
      "metadata": {
        "id": "OYEHw9d1PWYx"
      },
      "source": [
        "*(Note: For more advanced logging, introduce the `logging` module itself in a later section or course).*\n",
        "\n",
        "## Using AI Tools Ethically & Effectively in Debugging\n",
        "\n",
        "AI tools (like LLMs) can be powerful partners in debugging, but they are not magic wands.\n",
        "\n",
        "> **AI as a Debugging Assistant Workflow:**\n",
        ">\n",
        "> 1.  **Encounter a Bug:** Your code isn't working as expected.\n",
        "> 2.  **Understand First:** Read the error message. Use `print()` statements to investigate variable states and program flow around the suspected error location. *Try to form a hypothesis about the bug yourself.*\n",
        "> 3.  **Ask AI for Help (If Stuck):**\n",
        ">       * Provide the relevant code snippet.\n",
        ">       * Share the full error message.\n",
        ">       * Explain what you *expect* the code to do.\n",
        ">       * Explain what it's *actually* doing.\n",
        ">       * Ask specific questions: \"Can you explain this `TypeError`?\" or \"What are common reasons for this logical error in this context?\" or \"Can you suggest ways to debug this section of code?\"\n",
        "> 4.  **Critically Evaluate AI's Response:**\n",
        ">       * Does the explanation make sense?\n",
        ">       * Does the suggested fix address your hypothesised problem?\n",
        ">       * *Don't just copy-paste.* Understand *why* the AI's suggestion might work.\n",
        "> 5.  **Test and Verify:** Implement the suggestion (or your modified version of it) and test thoroughly.\n",
        ">\n",
        "> **Transparency:** Always disclose when and how you've used AI in your work.\n",
        "> **Learning Partner:** Use AI to deepen your understanding, not as a shortcut to avoid thinking.\n",
        "\n",
        "## Using AI Tools Ethically & Effectively in Debugging\n",
        "AI tools (like Large Language Models or LLMs) can be powerful partners in debugging, but they are not magic wands. Your own understanding and critical thinking are paramount.\n",
        "\n",
        "> **The Human-AI Partnership in Debugging:**\n",
        ">\n",
        "> 1.  **You're the Lead Detective:**\n",
        ">     * **Investigate First:** Before turning to AI, always try to understand the problem yourself. Read Python's error messages carefully. Use `print()` statements to trace the flow of your program and inspect the values of variables near where you suspect the error is occurring.\n",
        ">     * **Form a Hypothesis:** Based on your investigation, try to guess what might be wrong. *The clearer your own understanding of the potential issue and its location, the better you can guide an AI for useful assistance.*\n",
        ">\n",
        "> 2.  **Using AI as a Smart Assistant (If Stuck):**\n",
        ">     * Provide the relevant code snippet.\n",
        ">     * Share the full error message.\n",
        ">     * Clearly explain what you *expect* the code to do.\n",
        ">     * Describe what it's *actually* doing based on your `print()` investigations.\n",
        ">     * Ask specific questions: \"Can you explain this `TypeError` in the context of my code?\" or \"Given that variable `x` is `None` here (which I found using `print`), what are common reasons for this logical error?\" or \"Can you suggest different approaches to debug this section further?\"\n",
        ">\n",
        "> 3.  **Critically Evaluate AI's Suggestions – This is Key!**\n",
        ">     * **Does the explanation make sense based on your understanding?**\n",
        ">     * **Does the suggested fix address your hypothesised root problem, or just a symptom?** Be wary of fixes that seem to work for one specific input but might not solve the underlying issue.\n",
        ">     * ***Avoid \"Patchwork Programming\":*** Relying solely on AI to \"just fix it\" can sometimes lead to code that patches over a specific error for a special case without addressing the actual bug. This can create complex, hard-to-maintain code that breaks unexpectedly with new inputs. While it's harder to demonstrate with simple academic examples, in larger projects this can lead to code that *feels* like it works but is built on a shaky foundation.\n",
        ">     * **Understand *Why*:** Don't just copy-paste AI-generated code. Strive to understand *why* the suggestion works (or doesn't). This is crucial for your learning and for maintaining control over your code.\n",
        ">\n",
        "> 4.  **Test, Verify, and Learn:**\n",
        ">     * Implement the suggestion (or your modified, understood version of it).\n",
        ">     * Test thoroughly with a variety of inputs, including edge cases you can think of.\n",
        ">     * Whether the AI was helpful or not, reflect on what you learned about the bug and Python itself.\n",
        ">\n",
        "> **Human Oversight is Non-Negotiable:**\n",
        "> AI is a tool to augment your abilities, not replace your critical judgment. The goal is to write clear, correct, and maintainable code that *you* understand and can stand behind.\n",
        ">\n",
        "> **Transparency:** Always disclose when and how you've used AI in your work.\n",
        "> **Learning Partner:** Use AI to deepen your understanding, not as a shortcut to avoid thinking.\n",
        "\n",
        "\n",
        "\n",
        "## Application Activities\n",
        "\n",
        "### Activity 1: Spot the Bug (Syntax/Runtime)\n",
        "\n",
        "**Scenario:** You are given a Python function intended to calculate the average of a list of numbers but it has an error."
      ]
    },
    {
      "cell_type": "code",
      "metadata": {
        "id": "W_FmZ9x3PWYx"
      },
      "source": [
        "def calculate_list_average(numbers):\n",
        "    total = 0\n",
        "    for num in numbers:\n",
        "        total += num\n",
        "    return total / len(numbers) # What if numbers is empty?\n",
        "\n",
        "# Test cases\n",
        "print(calculate_list_average([1, 2, 3, 4, 5]))\n",
        "# print(calculate_list_average([])) # This will cause a ZeroDivisionError"
      ],
      "execution_count": null,
      "outputs": []
    },
    {
      "cell_type": "markdown",
      "metadata": {
        "id": "CSyaZ9gwPWYy"
      },
      "source": [
        "*Your task:*\n",
        "\n",
        "1.  What type of error occurs if you pass an empty list to `calculate_list_average([])`?\n",
        "2.  Use `print()` statements *inside the function* to observe the values of `total` and `len(numbers)` before the division.\n",
        "3.  Correct the function to handle an empty list gracefully (e.g., return 0 or raise a more specific error).\n",
        "4.  **(AI Challenge):** If you were stuck, how would you prompt an AI to help you debug the empty list scenario *without asking it to just fix the code*?\n",
        "\n",
        "### Activity 2: Logical Fallacy Detective\n",
        "\n",
        "**Task:** Analyse the following Python function that is supposed to categorise a person's age group. It has a logical error."
      ]
    },
    {
      "cell_type": "code",
      "metadata": {
        "id": "brKpGdWtPWYy"
      },
      "source": [
        "def age_group(age):\n",
        "    if age > 18: # Should this be >= 18 for adults?\n",
        "        return \"Adult\"\n",
        "    elif age < 13: # What about age 18 itself? Or age 13?\n",
        "        return \"Child\"\n",
        "    else: # This covers 13 to 18 (inclusive of 13, exclusive of 18 due to first if)\n",
        "        return \"Teenager\"\n",
        "\n",
        "# Test with print statements\n",
        "# print(f\"Age 12: {age_group(12)}\") # Child - OK\n",
        "# print(f\"Age 13: {age_group(13)}\") # Teenager - OK\n",
        "# print(f\"Age 17: {age_group(17)}\") # Teenager - OK\n",
        "# print(f\"Age 18: {age_group(18)}\") # Teenager - Problem! Should likely be Adult.\n",
        "# print(f\"Age 19: {age_group(19)}\") # Adult - OK"
      ],
      "execution_count": null,
      "outputs": []
    },
    {
      "cell_type": "markdown",
      "metadata": {
        "id": "E_CZQUE5PWYy"
      },
      "source": [
        "*Your task:*\n",
        "\n",
        "1.  Use `print()` statements with various ages (e.g., 12, 13, 17, 18, 19) to see what the function returns.\n",
        "2.  Identify the logical flaw(s) regarding the age boundaries.\n",
        "3.  Correct the function to accurately categorise ages (e.g., Child: 0-12, Teenager: 13-17, Adult: 18+).\n",
        "4.  **(AI Challenge):** Describe how you could use an AI to help you *identify edge cases* for this function that you might not have thought of.\n",
        "\n",
        "-----\n",
        "\n",
        "## Peeking Inside: A Glimpse into Debuggers & Breakpoints (Advanced Sneak Peek)\n",
        "\n",
        "While `print()` is fantastic, sometimes you need more power. Professional programmers often use **debuggers**.\n",
        "\n",
        "**What is a Debugger?**\n",
        "A debugger is a tool that lets you:\n",
        "\n",
        "  - **Pause** your program's execution at specific points (called **breakpoints**).\n",
        "  - **Inspect** the values of variables at that paused moment.\n",
        "  - **Step through** your code line by line to see exactly how it executes.\n",
        "\n",
        "Most Python IDEs (like VS Code, PyCharm, and even Google Colab) have built-in debuggers.\n",
        "\n",
        "**How Breakpoints Work (Conceptual):**\n",
        "\n",
        "1.  You mark a line in your code as a \"breakpoint.\"\n",
        "2.  When you run your program *in debug mode*, it stops when it hits that line.\n",
        "3.  You can then look at the current state of all variables.\n",
        "4.  You can then tell the debugger to execute the next line, step into a function call, or continue running until the next breakpoint.\n",
        "\n",
        "**Why is this useful?**\n",
        "It gives you a much more detailed and interactive view of your program's state than just `print()` statements, especially for complex bugs.\n",
        "\n",
        "**(Optional Exploration):**\n",
        "If your coding environment has a debugger (Colab does\\!), try setting a breakpoint in one of the functions from the activities above and stepping through it. Don't worry if it seems complex now; this is just an introduction to the concept.\n",
        "\n",
        "**(AI & Debuggers):** Some modern tools are starting to integrate AI with debuggers to suggest *why* a variable has a certain value at a breakpoint or to predict potential issues. This is an evolving area\\!\n",
        "\n",
        "-----\n",
        "\n",
        "## Reflection\n",
        "\n",
        "  - Which debugging technique (`print` statements, analyzing error messages) did you find most helpful for the activities? Why?\n",
        "  - How did you (or how would you) use an AI tool to *assist* your debugging process for these activities, rather than just getting a solution?\n",
        "  - How did you ensure the integrity of your work if you consulted an AI?\n",
        "  - What's one thing you learned about how Python executes code or reports errors that was new to you?\n",
        "  - Does the idea of using a debugger with breakpoints seem useful for more complex problems in the future?\n",
        "\n",
        "Remember, debugging is a skill that improves with practice. It's like being a detective: you gather clues, form hypotheses, and test them until you solve the mystery!"
      ]
    }
  ],
  "metadata": {
    "kernelspec": {
      "display_name": "Python 3",
      "language": "python",
      "name": "python3"
    },
    "colab": {
      "provenance": [],
      "include_colab_link": true
    }
  },
  "nbformat": 4,
  "nbformat_minor": 0
}