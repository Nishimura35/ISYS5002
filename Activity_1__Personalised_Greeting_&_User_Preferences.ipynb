{
  "cells": [
    {
      "cell_type": "markdown",
      "metadata": {
        "id": "view-in-github",
        "colab_type": "text"
      },
      "source": [
        "<a href=\"https://colab.research.google.com/github/teaching-repositories/ISYS2001-ISYS5002/blob/main/Week%202%20Notebooks/Activity_1__Personalised_Greeting_%26_User_Preferences.ipynb\" target=\"_parent\"><img src=\"https://colab.research.google.com/assets/colab-badge.svg\" alt=\"Open In Colab\"/></a>"
      ]
    },
    {
      "cell_type": "raw",
      "metadata": {
        "id": "SuqQtNNGTSYw"
      },
      "source": [
        "---\n",
        "title: 'Activity 1: Personalized Greeting & User Preferences'\n",
        "subtitle: 'From Input to Impact: Crafting Personalised Greetings in Python'\n",
        "author: Michael Borck\n",
        "format:\n",
        "  html:\n",
        "    code-fold: true\n",
        "---"
      ]
    },
    {
      "cell_type": "markdown",
      "metadata": {
        "id": "CyKman9YTSYx"
      },
      "source": [
        "# Activity 1: Personalized Greeting & User Preferences\n",
        "\n",
        "## Project Goal\n",
        "\n",
        "Build a simple program that asks the user for their name and a couple of preferences (for example, their favourite colour and favourite food). This activity will help you practice using `input()` and `print()` functions, storing data in variables, and even trying out interactive widgets.\n",
        "\n",
        "## Instructions\n",
        "\n",
        "1. **Collect User Input:**  \n",
        "   Use the `input()` function (or widgets) to ask the user for their name, favourite colour, and favourite food.\n",
        "\n",
        "2. **Store Responses in Variables:**  \n",
        "   Assign the input values to variables for later use.\n",
        "\n",
        "3. **Output a Summary Message:**  \n",
        "   Use the `print()` function to display a personalised message that incorporates all the user's inputs.\n",
        "\n",
        "4. **Extend the Activity:**  \n",
        "   Add another preference (e.g., favourite hobby) and update the summary message accordingly."
      ]
    },
    {
      "cell_type": "markdown",
      "metadata": {
        "id": "Vd-4u6q6TSYy"
      },
      "source": [
        "---\n",
        "\n",
        "## Step-by-Step Guide\n",
        "\n",
        "### Step 1: Collecting User Input\n",
        "\n",
        "Below is a code cell with example code that prompts the user for their details. Run it to see how it works, then try modifying or adding your own input prompts."
      ]
    },
    {
      "cell_type": "code",
      "metadata": {
        "id": "CooDCmJ4TSYy"
      },
      "source": [
        "# Collect basic user inputs\n",
        "name = input(\"What is your name? \")\n",
        "favourite_colour = input(\"What is your favourite colour? \")\n",
        "favourite_food = input(\"What is your favourite food? \")\n",
        "\n",
        "# Display the captured inputs\n",
        "print(\"Name:\", name)\n",
        "print(\"Favourite Colour:\", favourite_colour)\n",
        "print(\"Favourite Food:\", favourite_food)"
      ],
      "execution_count": null,
      "outputs": []
    },
    {
      "cell_type": "markdown",
      "metadata": {
        "id": "n2Ky_CSATSYz"
      },
      "source": [
        "### Step 2: Interactive Input with ipywidgets\n",
        "\n",
        "For a more interactive experience in Google Colab, try using ipywidgets. This cell creates text boxes that update a greeting message in real time."
      ]
    },
    {
      "cell_type": "code",
      "metadata": {
        "id": "rbu8RR36TSYz"
      },
      "source": [
        "# If needed, uncomment the next line to install ipywidgets in Colab\n",
        "# !pip install ipywidgets\n",
        "\n",
        "import ipywidgets as widgets\n",
        "from IPython.display import display\n",
        "\n",
        "def greet(name, favourite_colour, favourite_food):\n",
        "    greeting = f\"Hello, {name}! Your favourite colour is {favourite_colour} and you love {favourite_food}.\"\n",
        "    print(greeting)\n",
        "\n",
        "# Create interactive text widgets for input\n",
        "name_widget = widgets.Text(placeholder='Enter your name')\n",
        "colour_widget = widgets.Text(placeholder='Enter your favourite colour')\n",
        "food_widget = widgets.Text(placeholder='Enter your favourite food')\n",
        "\n",
        "ui = widgets.VBox([name_widget, colour_widget, food_widget])\n",
        "out = widgets.interactive_output(greet, {'name': name_widget, 'favourite_colour': colour_widget, 'favourite_food': food_widget})\n",
        "display(ui, out)"
      ],
      "execution_count": null,
      "outputs": []
    },
    {
      "cell_type": "markdown",
      "metadata": {
        "id": "S0EkF_A-TSYz"
      },
      "source": [
        "### Step 3: Outputting a Personalised Summary\n",
        "\n",
        "After gathering the inputs, combine the variables into one summary message. Notice how the code below builds a message using string concatenation."
      ]
    },
    {
      "cell_type": "code",
      "metadata": {
        "id": "6qo05YhUTSY0"
      },
      "source": [
        "# Output a summary message combining the inputs\n",
        "print(\"Hello, \" + name + \"! Your favourite colour is \" + favourite_colour +\n",
        "      \" and you love \" + favourite_food + \".\")"
      ],
      "execution_count": null,
      "outputs": []
    },
    {
      "cell_type": "markdown",
      "metadata": {
        "id": "QsBVmwdlTSY0"
      },
      "source": [
        "### Step 4: Your Turn – Extend the Program\n",
        "\n",
        "Now it's your turn. Add another preference, such as the user's favourite hobby. Use the skeleton code below, complete it, and then update your summary message accordingly."
      ]
    },
    {
      "cell_type": "code",
      "metadata": {
        "id": "XpsvH2aUTSY0"
      },
      "source": [
        "# TODO: Ask the user for their favourite hobby and store it in a variable.\n",
        "# For example:\n",
        "# favourite_hobby = input(\"What is your favourite hobby? \")\n",
        "\n",
        "# After adding your input prompt, update your summary message.\n",
        "# For example:\n",
        "# print(\"Hello, \" + name + \"! Your favourite colour is \" + favourite_colour +\n",
        "#       \", you love \" + favourite_food + \", and your favourite hobby is \" + favourite_hobby + \".\")"
      ],
      "execution_count": null,
      "outputs": []
    },
    {
      "cell_type": "markdown",
      "metadata": {
        "id": "mxjap4TPTSY1"
      },
      "source": [
        "### Step 5: Validation – Check Your Inputs\n",
        "\n",
        "Run this cell after you have entered your inputs. It uses simple assertions to validate that your variables are not empty."
      ]
    },
    {
      "cell_type": "code",
      "metadata": {
        "id": "TgH21uyrTSY1"
      },
      "source": [
        "# Validation cell: Check that the essential inputs are captured\n",
        "try:\n",
        "    # Check for the original inputs\n",
        "    assert name != \"\", \"Name should not be empty.\"\n",
        "    assert favourite_colour != \"\", \"Favourite colour should not be empty.\"\n",
        "    assert favourite_food != \"\", \"Favourite food should not be empty.\"\n",
        "\n",
        "    # Optionally, if you added a favourite hobby:\n",
        "    # assert favourite_hobby != \"\", \"Favourite hobby should not be empty.\"\n",
        "\n",
        "    print(\"Great job! Your inputs have been captured successfully.\")\n",
        "except NameError:\n",
        "    print(\"It seems one or more variables are not defined. Please complete the input cell(s).\")\n",
        "except AssertionError as e:\n",
        "    print(\"Validation error:\", e)"
      ],
      "execution_count": null,
      "outputs": []
    },
    {
      "cell_type": "raw",
      "metadata": {
        "id": "8q08h8MXTSY1"
      },
      "source": [
        "---"
      ]
    },
    {
      "cell_type": "markdown",
      "metadata": {
        "id": "pZlMPCGpTSY1"
      },
      "source": [
        "## Summary and Next Steps\n",
        "\n",
        "- **Experiment:**  \n",
        "  Try modifying the code—change the string concatenation to use f-strings or the `print()` function with commas.\n",
        "\n",
        "- **Interactive Widgets:**  \n",
        "  Experiment with the ipywidgets cell to see real-time updates as you change your inputs.\n",
        "\n",
        "- **Validation:**  \n",
        "  Run the validation cell to ensure that you have successfully captured all required inputs.\n",
        "\n",
        "This notebook is designed to be run in an interactive environment like Google Colab. Enjoy coding and experimenting with your personalised greeting program!\n",
        "\n",
        "Happy coding!"
      ]
    }
  ],
  "metadata": {
    "kernelspec": {
      "name": "python3",
      "language": "python",
      "display_name": "Python 3 (ipykernel)"
    },
    "colab": {
      "provenance": [],
      "include_colab_link": true
    }
  },
  "nbformat": 4,
  "nbformat_minor": 0
}