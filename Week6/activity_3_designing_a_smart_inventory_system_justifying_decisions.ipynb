{
  "cells": [
    {
      "cell_type": "markdown",
      "metadata": {
        "id": "view-in-github",
        "colab_type": "text"
      },
      "source": [
        "<a href=\"https://colab.research.google.com/github/Nishimura35/ISYS5002/blob/main/Week6/activity_3_designing_a_smart_inventory_system_justifying_decisions.ipynb\" target=\"_parent\"><img src=\"https://colab.research.google.com/assets/colab-badge.svg\" alt=\"Open In Colab\"/></a>"
      ]
    },
    {
      "cell_type": "markdown",
      "metadata": {
        "id": "UrDA9-gGFnRb"
      },
      "source": [
        "## Learning Objectives\n",
        "\n",
        "By the end of this activity, you will be able to:\n",
        "\n",
        "- Analyse the strengths and limitations of using a dictionary-powered approach for an inventory management system.\n",
        "- Evaluate the suitability of different inventory management strategies for a given business scenario.\n",
        "- Justify the design choices you make when implementing a dictionary-powered inventory system.\n",
        "- Compare and contrast various data structures and techniques for efficient inventory tracking.\n",
        "\n",
        "## Introduction\n",
        "\n",
        "Effective inventory management is crucial for businesses to maintain optimal stock levels, minimise waste, and ensure product availability. In this activity, you will explore how to design a dictionary-powered inventory management system and learn to justify the decisions you make throughout the process. By developing this skill, you'll be better equipped to tackle complex, real-world inventory challenges that require critical thinking and problem-solving.\n",
        "\n",
        "## Using AI Tools Ethically & Effectively\n",
        "\n",
        "As you work through this activity, you may find it helpful to use AI tools, such as language models, to assist with tasks like brainstorming, explaining concepts, or generating code. However, it's important to use these tools responsibly and critically.\n",
        "\n",
        "When using AI, always be transparent about your use of the tool, and carefully evaluate the output to ensure it is accurate and aligned with the specific requirements of the task. Treat the AI as a learning partner, not a black box solution.\n",
        "\n",
        "For example, you could ask an AI system: \"What are the potential limitations of using a dictionary-based approach for an inventory management system, and how might those limitations be addressed?\" Then, critically examine the AI's response and consider how it applies to your specific scenario.\n",
        "\n",
        "## Key Concepts\n",
        "\n",
        "- **Dictionary Data Structure**: A key-value store that allows for efficient storage and retrieval of inventory data.\n",
        "- **Inventory Tracking**: The process of monitoring and managing the stock levels of goods or materials.\n",
        "- **Inventory Management Strategies**: Approaches to optimising inventory levels, such as just-in-time (JIT) or economic order quantity (EOQ).\n",
        "- **Inventory Reporting**: Generating reports to track inventory levels, usage, and trends.\n",
        "- **Data Structures for Inventory**: Comparing the suitability of different data structures (e.g., lists, dictionaries, sets) for inventory management tasks.\n",
        "\n",
        "## Application Activities (Focus on Higher-Order Thinking)\n",
        "\n",
        "### Activity 1: Conceptual Application & Analysis\n",
        "\n",
        "You have been tasked with designing an inventory management system for a small retail business that sells a variety of products. The business owner wants to use a dictionary-powered approach to track inventory levels and generate reports.\n",
        "\n",
        "Explain the process you would use to design this inventory management system. In your explanation, address the following:\n",
        "\n",
        "- What are the key considerations you would take into account when choosing a dictionary-based approach?\n",
        "- What potential challenges or limitations might you encounter when using a dictionary for inventory management, and how would you address them?\n",
        "- How would you structure the dictionary to efficiently store and retrieve inventory data?"
      ]
    },
    {
      "cell_type": "code",
      "metadata": {
        "id": "cbI2njuDFnRd"
      },
      "source": [
        "# You don't need to write any code for this activity, but you can use this cell to experiment or illustrate your points."
      ],
      "execution_count": null,
      "outputs": []
    },
    {
      "cell_type": "markdown",
      "metadata": {
        "id": "INbqSpKGFnRe"
      },
      "source": [
        "### Activity 2: Evaluation, Comparison, and Justification\n",
        "\n",
        "The business owner has asked you to compare two different inventory management strategies: just-in-time (JIT) and economic order quantity (EOQ). They want you to evaluate the suitability of each approach for their business and justify your recommendation.\n",
        "\n",
        "Provide a detailed comparison of the JIT and EOQ strategies, addressing the following:\n",
        "\n",
        "- Explain the key principles and assumptions behind the JIT and EOQ approaches.\n",
        "- Identify the potential advantages and disadvantages of each strategy for the given business scenario.\n",
        "- Justify which inventory management strategy you would recommend for this business and explain your reasoning.\n",
        "\n",
        "💡 AI Tip: Ask an AI to explain the underlying principles of JIT and EOQ in a different way. Did this deepen your understanding for the justification you need to provide?"
      ]
    },
    {
      "cell_type": "code",
      "metadata": {
        "id": "VoMZvQWRFnRe"
      },
      "source": [
        "# You don't need to write any code for this activity, but you can use this cell to experiment or illustrate your points."
      ],
      "execution_count": null,
      "outputs": []
    },
    {
      "cell_type": "markdown",
      "metadata": {
        "id": "KTqL_YxAFnRf"
      },
      "source": [
        "### Extension: Integrating Concepts\n",
        "\n",
        "Your business has now grown, and the owner wants to expand the inventory management system to include more advanced features, such as automated reordering and stock level forecasting.\n",
        "\n",
        "Design an enhanced dictionary-powered inventory management system that incorporates these new requirements. In your design, explain:\n",
        "\n",
        "- How you would modify the dictionary structure to accommodate the additional features.\n",
        "- What algorithms or techniques you would use for automated reordering and forecasting, and justify your choices.\n",
        "- Potential challenges you might face when implementing this expanded system and how you would address them.\n",
        "\n",
        "💡 AI Tip: Use an AI to help brainstorm potential issues with applying a dictionary-based approach to the expanded inventory management system. Critically evaluate its suggestions – are they relevant? How significant are they?"
      ]
    },
    {
      "cell_type": "code",
      "metadata": {
        "id": "9FgyMhPvFnRf"
      },
      "source": [
        "# You can use this cell to experiment with code or illustrate your design concepts."
      ],
      "execution_count": null,
      "outputs": []
    },
    {
      "cell_type": "markdown",
      "metadata": {
        "id": "rilQ-HNMFnRf"
      },
      "source": [
        "## Reflection\n",
        "\n",
        "1. How might the analytical and evaluative skills you practiced with designing a dictionary-powered inventory management system apply elsewhere in your studies or future work?\n",
        "\n",
        "2. Describe how you used (or decided not to use) AI tools for the analysis, evaluation, or justification tasks in this worksheet. How did it influence your process and learning?\n",
        "\n",
        "3. Reflect on the process of critically evaluating information or justifying your choices during this activity. What was challenging or insightful?"
      ]
    }
  ],
  "metadata": {
    "kernelspec": {
      "name": "python3",
      "language": "python",
      "display_name": "Python 3 (ipykernel)"
    },
    "colab": {
      "provenance": [],
      "include_colab_link": true
    }
  },
  "nbformat": 4,
  "nbformat_minor": 0
}